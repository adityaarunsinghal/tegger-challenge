{
 "metadata": {
  "language_info": {
   "codemirror_mode": {
    "name": "ipython",
    "version": 3
   },
   "file_extension": ".py",
   "mimetype": "text/x-python",
   "name": "python",
   "nbconvert_exporter": "python",
   "pygments_lexer": "ipython3",
   "version": "3.9.1-final"
  },
  "orig_nbformat": 2,
  "kernelspec": {
   "name": "python3",
   "display_name": "Python 3.9.1 64-bit",
   "metadata": {
    "interpreter": {
     "hash": "7812ea015bdcee6f23a998adcdd2ef97c151c0c241b7b7070987d9313e41299d"
    }
   }
  }
 },
 "nbformat": 4,
 "nbformat_minor": 2,
 "cells": [
  {
   "cell_type": "code",
   "execution_count": 23,
   "metadata": {},
   "outputs": [],
   "source": [
    "import pandas as pd\n",
    "import os\n",
    "import regex as re"
   ]
  },
  {
   "cell_type": "code",
   "execution_count": 20,
   "metadata": {
    "tags": []
   },
   "outputs": [],
   "source": [
    "path = \"/Users/aditya/Documents/GitHub/tegger-challenge/bbc/\"\n",
    "contents = []\n",
    "themes = []\n",
    "for root, dirs, files in os.walk(path):\n",
    "    for file in files:\n",
    "        if(re.match(r\"\\d*\\.txt\", file)):\n",
    "            f = open(os.path.join(root, file), 'r', encoding='latin1')\n",
    "            # string = f.read()\n",
    "            contents.append(f.read())\n",
    "            themes.append(root[len(path):])"
   ]
  },
  {
   "cell_type": "code",
   "execution_count": 30,
   "metadata": {},
   "outputs": [],
   "source": [
    "data = pd.DataFrame()\n",
    "data['all'] = contents\n",
    "data['theme'] = themes\n",
    "data['title'] = data['all'].apply(lambda x: x[:x.find('\\n')])\n",
    "data['contents'] = data['all'].apply(lambda x: x[x.find('\\n')+2:])"
   ]
  },
  {
   "cell_type": "code",
   "execution_count": 31,
   "metadata": {},
   "outputs": [
    {
     "output_type": "execute_result",
     "data": {
      "text/plain": [
       "                                                    all          theme  \\\n",
       "0     Musicians to tackle US red tape\\n\\nMusicians' ...  entertainment   \n",
       "1     U2's desire to be number one\\n\\nU2, who have w...  entertainment   \n",
       "2     Rocker Doherty in on-stage fight\\n\\nRock singe...  entertainment   \n",
       "3     Snicket tops US box office chart\\n\\nThe film a...  entertainment   \n",
       "4     Ocean's Twelve raids box office\\n\\nOcean's Twe...  entertainment   \n",
       "...                                                 ...            ...   \n",
       "2220  Warning over Windows Word files\\n\\nWriting a M...           tech   \n",
       "2221  Fast lifts rise into record books\\n\\nTwo high-...           tech   \n",
       "2222  Nintendo adds media playing to DS\\n\\nNintendo ...           tech   \n",
       "2223  Fast moving phone viruses appear\\n\\nSecurity f...           tech   \n",
       "2224  Hacker threat to Apple's iTunes\\n\\nUsers of Ap...           tech   \n",
       "\n",
       "                                  title  \\\n",
       "0       Musicians to tackle US red tape   \n",
       "1          U2's desire to be number one   \n",
       "2      Rocker Doherty in on-stage fight   \n",
       "3      Snicket tops US box office chart   \n",
       "4       Ocean's Twelve raids box office   \n",
       "...                                 ...   \n",
       "2220    Warning over Windows Word files   \n",
       "2221  Fast lifts rise into record books   \n",
       "2222  Nintendo adds media playing to DS   \n",
       "2223   Fast moving phone viruses appear   \n",
       "2224    Hacker threat to Apple's iTunes   \n",
       "\n",
       "                                               contents  \n",
       "0     Musicians' groups are to tackle US visa regula...  \n",
       "1     U2, who have won three prestigious Grammy Awar...  \n",
       "2     Rock singer Pete Doherty has been involved in ...  \n",
       "3     The film adaptation of Lemony Snicket novels h...  \n",
       "4     Ocean's Twelve, the crime caper sequel starrin...  \n",
       "...                                                 ...  \n",
       "2220  Writing a Microsoft Word document can be a dan...  \n",
       "2221  Two high-speed lifts at the world's tallest bu...  \n",
       "2222  Nintendo is releasing an adapter for its DS ha...  \n",
       "2223  Security firms are warning about several mobil...  \n",
       "2224  Users of Apple's music jukebox iTunes need to ...  \n",
       "\n",
       "[2225 rows x 4 columns]"
      ],
      "text/html": "<div>\n<style scoped>\n    .dataframe tbody tr th:only-of-type {\n        vertical-align: middle;\n    }\n\n    .dataframe tbody tr th {\n        vertical-align: top;\n    }\n\n    .dataframe thead th {\n        text-align: right;\n    }\n</style>\n<table border=\"1\" class=\"dataframe\">\n  <thead>\n    <tr style=\"text-align: right;\">\n      <th></th>\n      <th>all</th>\n      <th>theme</th>\n      <th>title</th>\n      <th>contents</th>\n    </tr>\n  </thead>\n  <tbody>\n    <tr>\n      <th>0</th>\n      <td>Musicians to tackle US red tape\\n\\nMusicians' ...</td>\n      <td>entertainment</td>\n      <td>Musicians to tackle US red tape</td>\n      <td>Musicians' groups are to tackle US visa regula...</td>\n    </tr>\n    <tr>\n      <th>1</th>\n      <td>U2's desire to be number one\\n\\nU2, who have w...</td>\n      <td>entertainment</td>\n      <td>U2's desire to be number one</td>\n      <td>U2, who have won three prestigious Grammy Awar...</td>\n    </tr>\n    <tr>\n      <th>2</th>\n      <td>Rocker Doherty in on-stage fight\\n\\nRock singe...</td>\n      <td>entertainment</td>\n      <td>Rocker Doherty in on-stage fight</td>\n      <td>Rock singer Pete Doherty has been involved in ...</td>\n    </tr>\n    <tr>\n      <th>3</th>\n      <td>Snicket tops US box office chart\\n\\nThe film a...</td>\n      <td>entertainment</td>\n      <td>Snicket tops US box office chart</td>\n      <td>The film adaptation of Lemony Snicket novels h...</td>\n    </tr>\n    <tr>\n      <th>4</th>\n      <td>Ocean's Twelve raids box office\\n\\nOcean's Twe...</td>\n      <td>entertainment</td>\n      <td>Ocean's Twelve raids box office</td>\n      <td>Ocean's Twelve, the crime caper sequel starrin...</td>\n    </tr>\n    <tr>\n      <th>...</th>\n      <td>...</td>\n      <td>...</td>\n      <td>...</td>\n      <td>...</td>\n    </tr>\n    <tr>\n      <th>2220</th>\n      <td>Warning over Windows Word files\\n\\nWriting a M...</td>\n      <td>tech</td>\n      <td>Warning over Windows Word files</td>\n      <td>Writing a Microsoft Word document can be a dan...</td>\n    </tr>\n    <tr>\n      <th>2221</th>\n      <td>Fast lifts rise into record books\\n\\nTwo high-...</td>\n      <td>tech</td>\n      <td>Fast lifts rise into record books</td>\n      <td>Two high-speed lifts at the world's tallest bu...</td>\n    </tr>\n    <tr>\n      <th>2222</th>\n      <td>Nintendo adds media playing to DS\\n\\nNintendo ...</td>\n      <td>tech</td>\n      <td>Nintendo adds media playing to DS</td>\n      <td>Nintendo is releasing an adapter for its DS ha...</td>\n    </tr>\n    <tr>\n      <th>2223</th>\n      <td>Fast moving phone viruses appear\\n\\nSecurity f...</td>\n      <td>tech</td>\n      <td>Fast moving phone viruses appear</td>\n      <td>Security firms are warning about several mobil...</td>\n    </tr>\n    <tr>\n      <th>2224</th>\n      <td>Hacker threat to Apple's iTunes\\n\\nUsers of Ap...</td>\n      <td>tech</td>\n      <td>Hacker threat to Apple's iTunes</td>\n      <td>Users of Apple's music jukebox iTunes need to ...</td>\n    </tr>\n  </tbody>\n</table>\n<p>2225 rows × 4 columns</p>\n</div>"
     },
     "metadata": {},
     "execution_count": 31
    }
   ],
   "source": [
    "data"
   ]
  },
  {
   "cell_type": "code",
   "execution_count": 36,
   "metadata": {},
   "outputs": [],
   "source": [
    "data.to_csv('/Users/aditya/Documents/GitHub/tegger-challenge/data.csv')"
   ]
  }
 ]
}
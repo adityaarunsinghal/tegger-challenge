{
 "metadata": {
  "language_info": {
   "codemirror_mode": {
    "name": "ipython",
    "version": 3
   },
   "file_extension": ".py",
   "mimetype": "text/x-python",
   "name": "python",
   "nbconvert_exporter": "python",
   "pygments_lexer": "ipython3",
   "version": "3.9.1-final"
  },
  "orig_nbformat": 2,
  "kernelspec": {
   "name": "python3",
   "display_name": "Python 3.9.1 64-bit",
   "metadata": {
    "interpreter": {
     "hash": "7812ea015bdcee6f23a998adcdd2ef97c151c0c241b7b7070987d9313e41299d"
    }
   }
  }
 },
 "nbformat": 4,
 "nbformat_minor": 2,
 "cells": [
  {
   "cell_type": "code",
   "execution_count": 1,
   "metadata": {},
   "outputs": [],
   "source": [
    "import pandas as pd\n",
    "import os\n",
    "import regex as re\n",
    "from sklearn.feature_extraction.text import TfidfVectorizer\n",
    "from sklearn.feature_extraction.text import CountVectorizer\n",
    "from sklearn.cluster import KMeans\n",
    "from gensim.models import Word2Vec\n",
    "import numpy as np"
   ]
  },
  {
   "cell_type": "code",
   "execution_count": 2,
   "metadata": {},
   "outputs": [
    {
     "output_type": "execute_result",
     "data": {
      "text/plain": [
       "                                                 all          theme  \\\n",
       "0  musician tackle *USA red tape musician group t...  entertainment   \n",
       "1  u2 desire number one u2 three prestigious gram...  entertainment   \n",
       "2  rocker doherty onstage fight rock singer pete ...  entertainment   \n",
       "3  snicket top *USA box office chart film adaptat...  entertainment   \n",
       "4  ocean twelve raid box office ocean twelve crim...  entertainment   \n",
       "\n",
       "                              title  \\\n",
       "0   Musicians to tackle US red tape   \n",
       "1      U2's desire to be number one   \n",
       "2  Rocker Doherty in on-stage fight   \n",
       "3  Snicket tops US box office chart   \n",
       "4   Ocean's Twelve raids box office   \n",
       "\n",
       "                                            contents  \n",
       "0  Musicians' groups are to tackle US visa regula...  \n",
       "1  U2, who have won three prestigious Grammy Awar...  \n",
       "2  Rock singer Pete Doherty has been involved in ...  \n",
       "3  The film adaptation of Lemony Snicket novels h...  \n",
       "4  Ocean's Twelve, the crime caper sequel starrin...  "
      ],
      "text/html": "<div>\n<style scoped>\n    .dataframe tbody tr th:only-of-type {\n        vertical-align: middle;\n    }\n\n    .dataframe tbody tr th {\n        vertical-align: top;\n    }\n\n    .dataframe thead th {\n        text-align: right;\n    }\n</style>\n<table border=\"1\" class=\"dataframe\">\n  <thead>\n    <tr style=\"text-align: right;\">\n      <th></th>\n      <th>all</th>\n      <th>theme</th>\n      <th>title</th>\n      <th>contents</th>\n    </tr>\n  </thead>\n  <tbody>\n    <tr>\n      <th>0</th>\n      <td>musician tackle *USA red tape musician group t...</td>\n      <td>entertainment</td>\n      <td>Musicians to tackle US red tape</td>\n      <td>Musicians' groups are to tackle US visa regula...</td>\n    </tr>\n    <tr>\n      <th>1</th>\n      <td>u2 desire number one u2 three prestigious gram...</td>\n      <td>entertainment</td>\n      <td>U2's desire to be number one</td>\n      <td>U2, who have won three prestigious Grammy Awar...</td>\n    </tr>\n    <tr>\n      <th>2</th>\n      <td>rocker doherty onstage fight rock singer pete ...</td>\n      <td>entertainment</td>\n      <td>Rocker Doherty in on-stage fight</td>\n      <td>Rock singer Pete Doherty has been involved in ...</td>\n    </tr>\n    <tr>\n      <th>3</th>\n      <td>snicket top *USA box office chart film adaptat...</td>\n      <td>entertainment</td>\n      <td>Snicket tops US box office chart</td>\n      <td>The film adaptation of Lemony Snicket novels h...</td>\n    </tr>\n    <tr>\n      <th>4</th>\n      <td>ocean twelve raid box office ocean twelve crim...</td>\n      <td>entertainment</td>\n      <td>Ocean's Twelve raids box office</td>\n      <td>Ocean's Twelve, the crime caper sequel starrin...</td>\n    </tr>\n  </tbody>\n</table>\n</div>"
     },
     "metadata": {},
     "execution_count": 2
    }
   ],
   "source": [
    "data = pd.read_csv(\"/Users/aditya/Documents/GitHub/tegger-challenge/data.csv\").iloc[:,1:]\n",
    "data.head()"
   ]
  },
  {
   "cell_type": "code",
   "execution_count": 3,
   "metadata": {},
   "outputs": [],
   "source": [
    "cv=CountVectorizer(min_df=2,stop_words='english', max_df=0.85, ngram_range=(1,3))\n",
    "word_count_vector=cv.fit_transform(data['all'])"
   ]
  },
  {
   "cell_type": "code",
   "execution_count": 4,
   "metadata": {},
   "outputs": [],
   "source": [
    "feature_names=cv.get_feature_names()"
   ]
  },
  {
   "cell_type": "code",
   "execution_count": 5,
   "metadata": {},
   "outputs": [],
   "source": [
    "vectorizer = TfidfVectorizer(stop_words='english', ngram_range=(1,3), min_df=2, max_df=0.85)\n",
    "tfidf = vectorizer.fit_transform(data['all'])"
   ]
  },
  {
   "cell_type": "code",
   "execution_count": 6,
   "metadata": {},
   "outputs": [],
   "source": [
    "corpus = [entry.split(\" \") for entry in data['all']]"
   ]
  },
  {
   "cell_type": "code",
   "execution_count": 7,
   "metadata": {},
   "outputs": [],
   "source": [
    "# model = Word2Vec(corpus, min_count=2,size=10000,workers=3, window =5, sg = 0)"
   ]
  },
  {
   "cell_type": "code",
   "execution_count": 8,
   "metadata": {},
   "outputs": [],
   "source": [
    "# model.save(\"w2v_saved.model\")\n",
    "model = Word2Vec.load(\"w2v_saved.model\")"
   ]
  },
  {
   "cell_type": "code",
   "execution_count": 9,
   "metadata": {},
   "outputs": [
    {
     "output_type": "execute_result",
     "data": {
      "text/plain": [
       "['argentina',\n",
       " 'australia',\n",
       " 'brazil',\n",
       " 'canada',\n",
       " 'china',\n",
       " 'france',\n",
       " 'germany',\n",
       " 'india',\n",
       " 'indonesia',\n",
       " 'italy',\n",
       " 'japan',\n",
       " 'republic of korea',\n",
       " 'korea',\n",
       " 'mexico',\n",
       " 'russia',\n",
       " 'saudi arabia',\n",
       " 'arabia',\n",
       " 'south africa',\n",
       " 'africa',\n",
       " 'turkey',\n",
       " 'united kingdom',\n",
       " 'uk',\n",
       " 'united states',\n",
       " 'america',\n",
       " 'usa',\n",
       " 'european union',\n",
       " 'eu',\n",
       " 'europe']"
      ]
     },
     "metadata": {},
     "execution_count": 9
    }
   ],
   "source": [
    "g20 = \"Argentina, Australia, Brazil, Canada, China, France, Germany, India, Indonesia, Italy, Japan, Republic of Korea, Korea, Mexico, Russia, Saudi Arabia, Arabia, South Africa, Africa, Turkey, United Kingdom, UK, United States, America, USA, European Union, EU, Europe\".lower()\n",
    "g20 = g20.split(\", \")\n",
    "g20"
   ]
  },
  {
   "cell_type": "code",
   "execution_count": 10,
   "metadata": {},
   "outputs": [],
   "source": [
    "def get_mean_vector(word2vec_model, words):\n",
    "    # remove out-of-vocabulary words\n",
    "    words = [word for word in words if word in model.wv.vocab.keys()]\n",
    "    if len(words) >= 1:\n",
    "        return np.mean(word2vec_model[words], axis=0)\n",
    "    else:\n",
    "        return []"
   ]
  },
  {
   "cell_type": "code",
   "execution_count": 11,
   "metadata": {},
   "outputs": [],
   "source": [
    "data['mean_emb'] = data['all'].apply(lambda x: get_mean_vector(model, x.split(\" \")))"
   ]
  },
  {
   "cell_type": "code",
   "execution_count": 37,
   "metadata": {},
   "outputs": [
    {
     "output_type": "execute_result",
     "data": {
      "text/plain": [
       "   id                                                all          theme  \\\n",
       "0   0  musician tackle *USA red tape musician group t...  entertainment   \n",
       "1   1  u2 desire number one u2 three prestigious gram...  entertainment   \n",
       "2   2  rocker doherty onstage fight rock singer pete ...  entertainment   \n",
       "3   3  snicket top *USA box office chart film adaptat...  entertainment   \n",
       "4   4  ocean twelve raid box office ocean twelve crim...  entertainment   \n",
       "\n",
       "                              title  \\\n",
       "0   Musicians to tackle US red tape   \n",
       "1      U2's desire to be number one   \n",
       "2  Rocker Doherty in on-stage fight   \n",
       "3  Snicket tops US box office chart   \n",
       "4   Ocean's Twelve raids box office   \n",
       "\n",
       "                                            contents  \\\n",
       "0  Musicians' groups are to tackle US visa regula...   \n",
       "1  U2, who have won three prestigious Grammy Awar...   \n",
       "2  Rock singer Pete Doherty has been involved in ...   \n",
       "3  The film adaptation of Lemony Snicket novels h...   \n",
       "4  Ocean's Twelve, the crime caper sequel starrin...   \n",
       "\n",
       "                                            mean_emb  america  argentina  \\\n",
       "0  [7.4382326e-05, 0.046140082, 0.01195595, 0.001...        0          0   \n",
       "1  [0.0021663008, 0.04525567, 0.012547477, 0.0027...        0          0   \n",
       "2  [0.004162871, 0.042615805, 0.0135024255, 0.002...        0          0   \n",
       "3  [0.00523266, 0.039601512, 0.014776167, 0.00402...        1          0   \n",
       "4  [0.0044061705, 0.03529083, 0.012877651, 0.0034...        0          0   \n",
       "\n",
       "   australia  brazil  ...  south africa  africa  turkey  united kingdom  uk  \\\n",
       "0          0       0  ...             0       0       0               0   1   \n",
       "1          0       0  ...             0       0       0               0   1   \n",
       "2          0       0  ...             0       0       0               0   0   \n",
       "3          0       0  ...             0       0       0               0   1   \n",
       "4          0       0  ...             0       0       0               0   0   \n",
       "\n",
       "   united states  usa  european union  eu  europe  \n",
       "0              0    1               0   0       1  \n",
       "1              0    1               0   0       0  \n",
       "2              0    0               0   0       0  \n",
       "3              0    1               0   0       0  \n",
       "4              0    1               0   0       1  \n",
       "\n",
       "[5 rows x 34 columns]"
      ],
      "text/html": "<div>\n<style scoped>\n    .dataframe tbody tr th:only-of-type {\n        vertical-align: middle;\n    }\n\n    .dataframe tbody tr th {\n        vertical-align: top;\n    }\n\n    .dataframe thead th {\n        text-align: right;\n    }\n</style>\n<table border=\"1\" class=\"dataframe\">\n  <thead>\n    <tr style=\"text-align: right;\">\n      <th></th>\n      <th>id</th>\n      <th>all</th>\n      <th>theme</th>\n      <th>title</th>\n      <th>contents</th>\n      <th>mean_emb</th>\n      <th>america</th>\n      <th>argentina</th>\n      <th>australia</th>\n      <th>brazil</th>\n      <th>...</th>\n      <th>south africa</th>\n      <th>africa</th>\n      <th>turkey</th>\n      <th>united kingdom</th>\n      <th>uk</th>\n      <th>united states</th>\n      <th>usa</th>\n      <th>european union</th>\n      <th>eu</th>\n      <th>europe</th>\n    </tr>\n  </thead>\n  <tbody>\n    <tr>\n      <th>0</th>\n      <td>0</td>\n      <td>musician tackle *USA red tape musician group t...</td>\n      <td>entertainment</td>\n      <td>Musicians to tackle US red tape</td>\n      <td>Musicians' groups are to tackle US visa regula...</td>\n      <td>[7.4382326e-05, 0.046140082, 0.01195595, 0.001...</td>\n      <td>0</td>\n      <td>0</td>\n      <td>0</td>\n      <td>0</td>\n      <td>...</td>\n      <td>0</td>\n      <td>0</td>\n      <td>0</td>\n      <td>0</td>\n      <td>1</td>\n      <td>0</td>\n      <td>1</td>\n      <td>0</td>\n      <td>0</td>\n      <td>1</td>\n    </tr>\n    <tr>\n      <th>1</th>\n      <td>1</td>\n      <td>u2 desire number one u2 three prestigious gram...</td>\n      <td>entertainment</td>\n      <td>U2's desire to be number one</td>\n      <td>U2, who have won three prestigious Grammy Awar...</td>\n      <td>[0.0021663008, 0.04525567, 0.012547477, 0.0027...</td>\n      <td>0</td>\n      <td>0</td>\n      <td>0</td>\n      <td>0</td>\n      <td>...</td>\n      <td>0</td>\n      <td>0</td>\n      <td>0</td>\n      <td>0</td>\n      <td>1</td>\n      <td>0</td>\n      <td>1</td>\n      <td>0</td>\n      <td>0</td>\n      <td>0</td>\n    </tr>\n    <tr>\n      <th>2</th>\n      <td>2</td>\n      <td>rocker doherty onstage fight rock singer pete ...</td>\n      <td>entertainment</td>\n      <td>Rocker Doherty in on-stage fight</td>\n      <td>Rock singer Pete Doherty has been involved in ...</td>\n      <td>[0.004162871, 0.042615805, 0.0135024255, 0.002...</td>\n      <td>0</td>\n      <td>0</td>\n      <td>0</td>\n      <td>0</td>\n      <td>...</td>\n      <td>0</td>\n      <td>0</td>\n      <td>0</td>\n      <td>0</td>\n      <td>0</td>\n      <td>0</td>\n      <td>0</td>\n      <td>0</td>\n      <td>0</td>\n      <td>0</td>\n    </tr>\n    <tr>\n      <th>3</th>\n      <td>3</td>\n      <td>snicket top *USA box office chart film adaptat...</td>\n      <td>entertainment</td>\n      <td>Snicket tops US box office chart</td>\n      <td>The film adaptation of Lemony Snicket novels h...</td>\n      <td>[0.00523266, 0.039601512, 0.014776167, 0.00402...</td>\n      <td>1</td>\n      <td>0</td>\n      <td>0</td>\n      <td>0</td>\n      <td>...</td>\n      <td>0</td>\n      <td>0</td>\n      <td>0</td>\n      <td>0</td>\n      <td>1</td>\n      <td>0</td>\n      <td>1</td>\n      <td>0</td>\n      <td>0</td>\n      <td>0</td>\n    </tr>\n    <tr>\n      <th>4</th>\n      <td>4</td>\n      <td>ocean twelve raid box office ocean twelve crim...</td>\n      <td>entertainment</td>\n      <td>Ocean's Twelve raids box office</td>\n      <td>Ocean's Twelve, the crime caper sequel starrin...</td>\n      <td>[0.0044061705, 0.03529083, 0.012877651, 0.0034...</td>\n      <td>0</td>\n      <td>0</td>\n      <td>0</td>\n      <td>0</td>\n      <td>...</td>\n      <td>0</td>\n      <td>0</td>\n      <td>0</td>\n      <td>0</td>\n      <td>0</td>\n      <td>0</td>\n      <td>1</td>\n      <td>0</td>\n      <td>0</td>\n      <td>1</td>\n    </tr>\n  </tbody>\n</table>\n<p>5 rows × 34 columns</p>\n</div>"
     },
     "metadata": {},
     "execution_count": 37
    }
   ],
   "source": [
    "data.head()"
   ]
  },
  {
   "cell_type": "code",
   "execution_count": 13,
   "metadata": {},
   "outputs": [],
   "source": [
    "# data[['all','mean_emb']].to_csv('/Users/aditya/Documents/GitHub/tegger-challenge/mean_embeddings.csv')"
   ]
  },
  {
   "cell_type": "code",
   "execution_count": 16,
   "metadata": {},
   "outputs": [],
   "source": [
    "# data = data.reset_index().rename(columns={'index':'id'})"
   ]
  },
  {
   "cell_type": "code",
   "execution_count": 22,
   "metadata": {},
   "outputs": [],
   "source": [
    "# mentions = {}\n",
    "# for each in g20:\n",
    "#     mentions[each] = [index for index, row in data.iterrows() if \"*\"+each.upper() in row['all'].split(\" \")]"
   ]
  },
  {
   "cell_type": "code",
   "execution_count": 31,
   "metadata": {},
   "outputs": [],
   "source": [
    "# mentions['republic of korea'] = set(mentions['republic of korea']+mentions['korea'])\n",
    "# mentions['saudi arabia'] = set(mentions['saudi arabia']+mentions['arabia'])\n",
    "# mentions['south africa'] = set(mentions['south africa']+mentions['africa'])\n",
    "# mentions['united kingdom'] = set(mentions['united kingdom']+mentions['uk'])\n",
    "# mentions['united states'] = set(mentions['united states']+mentions['usa'] + mentions['america'])\n",
    "# mentions['european union'] = set(mentions['european union']+mentions['eu'] + mentions['europe'])"
   ]
  },
  {
   "cell_type": "code",
   "execution_count": 36,
   "metadata": {},
   "outputs": [],
   "source": [
    "for each in g20:\n",
    "    data[each] = [1 if \"*\"+each.upper() in row['all'].split(\" \") else 0 for index, row in data.iterrows()] "
   ]
  },
  {
   "cell_type": "code",
   "execution_count": 38,
   "metadata": {},
   "outputs": [],
   "source": [
    "data['republic of korea'] = data['republic of korea']+data['korea']\n",
    "data['saudi arabia'] = data['saudi arabia']+data['arabia']\n",
    "data['south africa'] = data['south africa']+data['africa']\n",
    "data['united kingdom'] = data['united kingdom']+data['uk']\n",
    "data['united states'] = data['united states']+data['usa'] + data['america']\n",
    "data['european union'] = data['european union']+data['eu'] + data['europe']"
   ]
  },
  {
   "cell_type": "code",
   "execution_count": 40,
   "metadata": {},
   "outputs": [],
   "source": [
    "data.drop(columns=['korea', 'arabia', 'africa', 'uk', 'america' , 'usa', 'eu', 'europe'], inplace=True)"
   ]
  },
  {
   "cell_type": "code",
   "execution_count": null,
   "metadata": {},
   "outputs": [],
   "source": []
  }
 ]
}
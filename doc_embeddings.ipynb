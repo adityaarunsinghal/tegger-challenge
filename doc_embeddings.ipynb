{
 "metadata": {
  "language_info": {
   "codemirror_mode": {
    "name": "ipython",
    "version": 3
   },
   "file_extension": ".py",
   "mimetype": "text/x-python",
   "name": "python",
   "nbconvert_exporter": "python",
   "pygments_lexer": "ipython3",
   "version": "3.9.1-final"
  },
  "orig_nbformat": 2,
  "kernelspec": {
   "name": "python3",
   "display_name": "Python 3.9.1 64-bit",
   "metadata": {
    "interpreter": {
     "hash": "7812ea015bdcee6f23a998adcdd2ef97c151c0c241b7b7070987d9313e41299d"
    }
   }
  }
 },
 "nbformat": 4,
 "nbformat_minor": 2,
 "cells": [
  {
   "cell_type": "code",
   "execution_count": 26,
   "metadata": {},
   "outputs": [],
   "source": [
    "import pandas as pd\n",
    "import os\n",
    "import regex as re\n",
    "from sklearn.feature_extraction.text import TfidfVectorizer\n",
    "from sklearn.feature_extraction.text import CountVectorizer\n",
    "from sklearn.cluster import KMeans\n",
    "from gensim.models import Word2Vec\n",
    "import numpy as np\n",
    "import gensim.downloader as api"
   ]
  },
  {
   "cell_type": "code",
   "execution_count": 27,
   "metadata": {},
   "outputs": [
    {
     "output_type": "execute_result",
     "data": {
      "text/plain": [
       "                                                 all          theme  \\\n",
       "0  musician tackle *USA red tape musician group t...  entertainment   \n",
       "1  u2 desire number one u2 three prestigious gram...  entertainment   \n",
       "2  rocker doherty onstage fight rock singer pete ...  entertainment   \n",
       "3  snicket top *USA box office chart film adaptat...  entertainment   \n",
       "4  ocean twelve raid box office ocean twelve crim...  entertainment   \n",
       "\n",
       "                              title  \\\n",
       "0   Musicians to tackle US red tape   \n",
       "1      U2's desire to be number one   \n",
       "2  Rocker Doherty in on-stage fight   \n",
       "3  Snicket tops US box office chart   \n",
       "4   Ocean's Twelve raids box office   \n",
       "\n",
       "                                            contents  argentina  australia  \\\n",
       "0  Musicians' groups are to tackle US visa regula...          0          0   \n",
       "1  U2, who have won three prestigious Grammy Awar...          0          0   \n",
       "2  Rock singer Pete Doherty has been involved in ...          0          0   \n",
       "3  The film adaptation of Lemony Snicket novels h...          0          0   \n",
       "4  Ocean's Twelve, the crime caper sequel starrin...          0          0   \n",
       "\n",
       "   brazil  canada  china  france  ...  japan  republic of korea  mexico  \\\n",
       "0       0       0      1       0  ...      0                  0       0   \n",
       "1       0       0      0       0  ...      0                  0       0   \n",
       "2       0       0      0       0  ...      0                  0       0   \n",
       "3       0       0      0       0  ...      0                  0       0   \n",
       "4       0       0      0       0  ...      0                  0       0   \n",
       "\n",
       "   russia  saudi arabia  south africa  turkey  united kingdom  united states  \\\n",
       "0       0             0             0       0               1              1   \n",
       "1       0             0             0       0               1              1   \n",
       "2       0             0             0       0               0              0   \n",
       "3       0             0             0       0               1              1   \n",
       "4       0             0             0       0               0              1   \n",
       "\n",
       "   european union  \n",
       "0               1  \n",
       "1               0  \n",
       "2               0  \n",
       "3               0  \n",
       "4               1  \n",
       "\n",
       "[5 rows x 24 columns]"
      ],
      "text/html": "<div>\n<style scoped>\n    .dataframe tbody tr th:only-of-type {\n        vertical-align: middle;\n    }\n\n    .dataframe tbody tr th {\n        vertical-align: top;\n    }\n\n    .dataframe thead th {\n        text-align: right;\n    }\n</style>\n<table border=\"1\" class=\"dataframe\">\n  <thead>\n    <tr style=\"text-align: right;\">\n      <th></th>\n      <th>all</th>\n      <th>theme</th>\n      <th>title</th>\n      <th>contents</th>\n      <th>argentina</th>\n      <th>australia</th>\n      <th>brazil</th>\n      <th>canada</th>\n      <th>china</th>\n      <th>france</th>\n      <th>...</th>\n      <th>japan</th>\n      <th>republic of korea</th>\n      <th>mexico</th>\n      <th>russia</th>\n      <th>saudi arabia</th>\n      <th>south africa</th>\n      <th>turkey</th>\n      <th>united kingdom</th>\n      <th>united states</th>\n      <th>european union</th>\n    </tr>\n  </thead>\n  <tbody>\n    <tr>\n      <th>0</th>\n      <td>musician tackle *USA red tape musician group t...</td>\n      <td>entertainment</td>\n      <td>Musicians to tackle US red tape</td>\n      <td>Musicians' groups are to tackle US visa regula...</td>\n      <td>0</td>\n      <td>0</td>\n      <td>0</td>\n      <td>0</td>\n      <td>1</td>\n      <td>0</td>\n      <td>...</td>\n      <td>0</td>\n      <td>0</td>\n      <td>0</td>\n      <td>0</td>\n      <td>0</td>\n      <td>0</td>\n      <td>0</td>\n      <td>1</td>\n      <td>1</td>\n      <td>1</td>\n    </tr>\n    <tr>\n      <th>1</th>\n      <td>u2 desire number one u2 three prestigious gram...</td>\n      <td>entertainment</td>\n      <td>U2's desire to be number one</td>\n      <td>U2, who have won three prestigious Grammy Awar...</td>\n      <td>0</td>\n      <td>0</td>\n      <td>0</td>\n      <td>0</td>\n      <td>0</td>\n      <td>0</td>\n      <td>...</td>\n      <td>0</td>\n      <td>0</td>\n      <td>0</td>\n      <td>0</td>\n      <td>0</td>\n      <td>0</td>\n      <td>0</td>\n      <td>1</td>\n      <td>1</td>\n      <td>0</td>\n    </tr>\n    <tr>\n      <th>2</th>\n      <td>rocker doherty onstage fight rock singer pete ...</td>\n      <td>entertainment</td>\n      <td>Rocker Doherty in on-stage fight</td>\n      <td>Rock singer Pete Doherty has been involved in ...</td>\n      <td>0</td>\n      <td>0</td>\n      <td>0</td>\n      <td>0</td>\n      <td>0</td>\n      <td>0</td>\n      <td>...</td>\n      <td>0</td>\n      <td>0</td>\n      <td>0</td>\n      <td>0</td>\n      <td>0</td>\n      <td>0</td>\n      <td>0</td>\n      <td>0</td>\n      <td>0</td>\n      <td>0</td>\n    </tr>\n    <tr>\n      <th>3</th>\n      <td>snicket top *USA box office chart film adaptat...</td>\n      <td>entertainment</td>\n      <td>Snicket tops US box office chart</td>\n      <td>The film adaptation of Lemony Snicket novels h...</td>\n      <td>0</td>\n      <td>0</td>\n      <td>0</td>\n      <td>0</td>\n      <td>0</td>\n      <td>0</td>\n      <td>...</td>\n      <td>0</td>\n      <td>0</td>\n      <td>0</td>\n      <td>0</td>\n      <td>0</td>\n      <td>0</td>\n      <td>0</td>\n      <td>1</td>\n      <td>1</td>\n      <td>0</td>\n    </tr>\n    <tr>\n      <th>4</th>\n      <td>ocean twelve raid box office ocean twelve crim...</td>\n      <td>entertainment</td>\n      <td>Ocean's Twelve raids box office</td>\n      <td>Ocean's Twelve, the crime caper sequel starrin...</td>\n      <td>0</td>\n      <td>0</td>\n      <td>0</td>\n      <td>0</td>\n      <td>0</td>\n      <td>0</td>\n      <td>...</td>\n      <td>0</td>\n      <td>0</td>\n      <td>0</td>\n      <td>0</td>\n      <td>0</td>\n      <td>0</td>\n      <td>0</td>\n      <td>0</td>\n      <td>1</td>\n      <td>1</td>\n    </tr>\n  </tbody>\n</table>\n<p>5 rows × 24 columns</p>\n</div>"
     },
     "metadata": {},
     "execution_count": 27
    }
   ],
   "source": [
    "data = pd.read_csv(\"/Users/aditya/Documents/GitHub/tegger-challenge/data.csv\").iloc[:,1:]\n",
    "data.head()"
   ]
  },
  {
   "cell_type": "code",
   "execution_count": 28,
   "metadata": {},
   "outputs": [],
   "source": [
    "# cv=CountVectorizer(min_df=2,stop_words='english', max_df=0.85, ngram_range=(1,3))\n",
    "# word_count_vector=cv.fit_transform(data['all'])"
   ]
  },
  {
   "cell_type": "code",
   "execution_count": 29,
   "metadata": {},
   "outputs": [],
   "source": [
    "# feature_names=cv.get_feature_names()"
   ]
  },
  {
   "cell_type": "code",
   "execution_count": 30,
   "metadata": {},
   "outputs": [],
   "source": [
    "# vectorizer = TfidfVectorizer(stop_words='english', ngram_range=(1,3), min_df=2, max_df=0.85)\n",
    "# tfidf = vectorizer.fit_transform(data['all'])"
   ]
  },
  {
   "cell_type": "code",
   "execution_count": 31,
   "metadata": {},
   "outputs": [],
   "source": [
    "corpus = [entry.split(\" \") for entry in data['all']]"
   ]
  },
  {
   "cell_type": "code",
   "execution_count": 32,
   "metadata": {},
   "outputs": [],
   "source": [
    "# model = Word2Vec(corpus, min_count=2,size=50000,workers=3, window =5, sg = 0)"
   ]
  },
  {
   "cell_type": "code",
   "execution_count": 33,
   "metadata": {},
   "outputs": [],
   "source": [
    "# model.save(\"w2v_saved.model\")\n",
    "model = Word2Vec.load(\"w2v_saved.model\")\n",
    "# model_glove = api.load(\"glove-wiki-gigaword-100\")\n",
    "# context = {}\n",
    "# context.update(model_glove)\n",
    "# context.update(model)"
   ]
  },
  {
   "cell_type": "code",
   "execution_count": 34,
   "metadata": {},
   "outputs": [],
   "source": [
    "g20 = \"Argentina, Australia, Brazil, Canada, China, France, Germany, India, Indonesia, Italy, Japan, Republic of Korea, Korea, Mexico, Russia, Saudi Arabia, Arabia, South Africa, Africa, Turkey, United Kingdom, UK, United States, America, USA, European Union, EU, Europe\".lower()\n",
    "g20 = g20.split(\", \")"
   ]
  },
  {
   "cell_type": "code",
   "execution_count": 42,
   "metadata": {},
   "outputs": [],
   "source": [
    "def get_mean_vector(word2vec_model, words):\n",
    "    words = [word for word in words if word in word2vec_model.wv.vocab.keys()]\n",
    "    if len(words) >= 1:\n",
    "        avg1= np.mean(word2vec_model[words], axis=0)\n",
    "        return avg1\n",
    "    else:\n",
    "        return []"
   ]
  },
  {
   "cell_type": "code",
   "execution_count": 43,
   "metadata": {},
   "outputs": [],
   "source": [
    "data['mean_emb'] = data['all'].apply(lambda x: get_mean_vector(model, x.split(\" \")))"
   ]
  },
  {
   "cell_type": "code",
   "execution_count": 44,
   "metadata": {},
   "outputs": [
    {
     "output_type": "execute_result",
     "data": {
      "text/plain": [
       "                                                 all          theme  \\\n",
       "0  musician tackle *USA red tape musician group t...  entertainment   \n",
       "1  u2 desire number one u2 three prestigious gram...  entertainment   \n",
       "2  rocker doherty onstage fight rock singer pete ...  entertainment   \n",
       "3  snicket top *USA box office chart film adaptat...  entertainment   \n",
       "4  ocean twelve raid box office ocean twelve crim...  entertainment   \n",
       "\n",
       "                              title  \\\n",
       "0   Musicians to tackle US red tape   \n",
       "1      U2's desire to be number one   \n",
       "2  Rocker Doherty in on-stage fight   \n",
       "3  Snicket tops US box office chart   \n",
       "4   Ocean's Twelve raids box office   \n",
       "\n",
       "                                            contents  argentina  australia  \\\n",
       "0  Musicians' groups are to tackle US visa regula...          0          0   \n",
       "1  U2, who have won three prestigious Grammy Awar...          0          0   \n",
       "2  Rock singer Pete Doherty has been involved in ...          0          0   \n",
       "3  The film adaptation of Lemony Snicket novels h...          0          0   \n",
       "4  Ocean's Twelve, the crime caper sequel starrin...          0          0   \n",
       "\n",
       "   brazil  canada  china  france  ...  republic of korea  mexico  russia  \\\n",
       "0       0       0      1       0  ...                  0       0       0   \n",
       "1       0       0      0       0  ...                  0       0       0   \n",
       "2       0       0      0       0  ...                  0       0       0   \n",
       "3       0       0      0       0  ...                  0       0       0   \n",
       "4       0       0      0       0  ...                  0       0       0   \n",
       "\n",
       "   saudi arabia  south africa  turkey  united kingdom  united states  \\\n",
       "0             0             0       0               1              1   \n",
       "1             0             0       0               1              1   \n",
       "2             0             0       0               0              0   \n",
       "3             0             0       0               1              1   \n",
       "4             0             0       0               0              1   \n",
       "\n",
       "   european union                                           mean_emb  \n",
       "0               1  [0.010030553, 0.010555822, 0.0056487704, -0.00...  \n",
       "1               0  [0.009995017, 0.012596794, 0.0047847545, -0.00...  \n",
       "2               0  [0.0095635895, 0.012760582, 0.004244135, -0.00...  \n",
       "3               0  [0.009604343, 0.014471119, 0.0036928602, -0.00...  \n",
       "4               1  [0.0082686655, 0.012306145, 0.003344359, -0.00...  \n",
       "\n",
       "[5 rows x 25 columns]"
      ],
      "text/html": "<div>\n<style scoped>\n    .dataframe tbody tr th:only-of-type {\n        vertical-align: middle;\n    }\n\n    .dataframe tbody tr th {\n        vertical-align: top;\n    }\n\n    .dataframe thead th {\n        text-align: right;\n    }\n</style>\n<table border=\"1\" class=\"dataframe\">\n  <thead>\n    <tr style=\"text-align: right;\">\n      <th></th>\n      <th>all</th>\n      <th>theme</th>\n      <th>title</th>\n      <th>contents</th>\n      <th>argentina</th>\n      <th>australia</th>\n      <th>brazil</th>\n      <th>canada</th>\n      <th>china</th>\n      <th>france</th>\n      <th>...</th>\n      <th>republic of korea</th>\n      <th>mexico</th>\n      <th>russia</th>\n      <th>saudi arabia</th>\n      <th>south africa</th>\n      <th>turkey</th>\n      <th>united kingdom</th>\n      <th>united states</th>\n      <th>european union</th>\n      <th>mean_emb</th>\n    </tr>\n  </thead>\n  <tbody>\n    <tr>\n      <th>0</th>\n      <td>musician tackle *USA red tape musician group t...</td>\n      <td>entertainment</td>\n      <td>Musicians to tackle US red tape</td>\n      <td>Musicians' groups are to tackle US visa regula...</td>\n      <td>0</td>\n      <td>0</td>\n      <td>0</td>\n      <td>0</td>\n      <td>1</td>\n      <td>0</td>\n      <td>...</td>\n      <td>0</td>\n      <td>0</td>\n      <td>0</td>\n      <td>0</td>\n      <td>0</td>\n      <td>0</td>\n      <td>1</td>\n      <td>1</td>\n      <td>1</td>\n      <td>[0.010030553, 0.010555822, 0.0056487704, -0.00...</td>\n    </tr>\n    <tr>\n      <th>1</th>\n      <td>u2 desire number one u2 three prestigious gram...</td>\n      <td>entertainment</td>\n      <td>U2's desire to be number one</td>\n      <td>U2, who have won three prestigious Grammy Awar...</td>\n      <td>0</td>\n      <td>0</td>\n      <td>0</td>\n      <td>0</td>\n      <td>0</td>\n      <td>0</td>\n      <td>...</td>\n      <td>0</td>\n      <td>0</td>\n      <td>0</td>\n      <td>0</td>\n      <td>0</td>\n      <td>0</td>\n      <td>1</td>\n      <td>1</td>\n      <td>0</td>\n      <td>[0.009995017, 0.012596794, 0.0047847545, -0.00...</td>\n    </tr>\n    <tr>\n      <th>2</th>\n      <td>rocker doherty onstage fight rock singer pete ...</td>\n      <td>entertainment</td>\n      <td>Rocker Doherty in on-stage fight</td>\n      <td>Rock singer Pete Doherty has been involved in ...</td>\n      <td>0</td>\n      <td>0</td>\n      <td>0</td>\n      <td>0</td>\n      <td>0</td>\n      <td>0</td>\n      <td>...</td>\n      <td>0</td>\n      <td>0</td>\n      <td>0</td>\n      <td>0</td>\n      <td>0</td>\n      <td>0</td>\n      <td>0</td>\n      <td>0</td>\n      <td>0</td>\n      <td>[0.0095635895, 0.012760582, 0.004244135, -0.00...</td>\n    </tr>\n    <tr>\n      <th>3</th>\n      <td>snicket top *USA box office chart film adaptat...</td>\n      <td>entertainment</td>\n      <td>Snicket tops US box office chart</td>\n      <td>The film adaptation of Lemony Snicket novels h...</td>\n      <td>0</td>\n      <td>0</td>\n      <td>0</td>\n      <td>0</td>\n      <td>0</td>\n      <td>0</td>\n      <td>...</td>\n      <td>0</td>\n      <td>0</td>\n      <td>0</td>\n      <td>0</td>\n      <td>0</td>\n      <td>0</td>\n      <td>1</td>\n      <td>1</td>\n      <td>0</td>\n      <td>[0.009604343, 0.014471119, 0.0036928602, -0.00...</td>\n    </tr>\n    <tr>\n      <th>4</th>\n      <td>ocean twelve raid box office ocean twelve crim...</td>\n      <td>entertainment</td>\n      <td>Ocean's Twelve raids box office</td>\n      <td>Ocean's Twelve, the crime caper sequel starrin...</td>\n      <td>0</td>\n      <td>0</td>\n      <td>0</td>\n      <td>0</td>\n      <td>0</td>\n      <td>0</td>\n      <td>...</td>\n      <td>0</td>\n      <td>0</td>\n      <td>0</td>\n      <td>0</td>\n      <td>0</td>\n      <td>0</td>\n      <td>0</td>\n      <td>1</td>\n      <td>1</td>\n      <td>[0.0082686655, 0.012306145, 0.003344359, -0.00...</td>\n    </tr>\n  </tbody>\n</table>\n<p>5 rows × 25 columns</p>\n</div>"
     },
     "metadata": {},
     "execution_count": 44
    }
   ],
   "source": [
    "data.head()"
   ]
  },
  {
   "cell_type": "code",
   "execution_count": 45,
   "metadata": {},
   "outputs": [],
   "source": [
    "data.to_pickle('/Users/aditya/Documents/GitHub/tegger-challenge/mean_embeddings.pkl')"
   ]
  },
  {
   "cell_type": "code",
   "execution_count": 52,
   "metadata": {},
   "outputs": [],
   "source": [
    "g20_mean_emb = {}\n",
    "for each in g20:\n",
    "    try:\n",
    "        g20_mean_emb[each] = model['*'+each.upper()]\n",
    "    except:\n",
    "        continue\n"
   ]
  },
  {
   "cell_type": "code",
   "execution_count": 53,
   "metadata": {},
   "outputs": [
    {
     "output_type": "execute_result",
     "data": {
      "text/plain": [
       "{'argentina': array([ 0.01205488,  0.01540329,  0.00587998, ..., -0.03364547,\n",
       "        -0.02346341,  0.01895906], dtype=float32),\n",
       " 'australia': array([ 0.0120225 ,  0.01579212,  0.00597072, ..., -0.03384686,\n",
       "        -0.0229663 ,  0.01896352], dtype=float32),\n",
       " 'brazil': array([ 0.00753566,  0.00865833,  0.00401651, ..., -0.02044253,\n",
       "        -0.01490953,  0.01099955], dtype=float32),\n",
       " 'canada': array([ 0.00579164,  0.00740887,  0.00269136, ..., -0.01600016,\n",
       "        -0.01082051,  0.00921129], dtype=float32),\n",
       " 'china': array([ 0.01522709,  0.01920916,  0.00810206, ..., -0.04266999,\n",
       "        -0.02943521,  0.02328844], dtype=float32),\n",
       " 'france': array([ 0.01525989,  0.0218841 ,  0.00681947, ..., -0.04391771,\n",
       "        -0.02820129,  0.02574923], dtype=float32),\n",
       " 'germany': array([ 0.01111386,  0.01362935,  0.00545584, ..., -0.03046325,\n",
       "        -0.0210385 ,  0.01710157], dtype=float32),\n",
       " 'india': array([ 0.01481213,  0.01650877,  0.008064  , ..., -0.03975716,\n",
       "        -0.02910383,  0.02112232], dtype=float32),\n",
       " 'indonesia': array([ 0.00805082,  0.00893677,  0.00459265, ..., -0.02177793,\n",
       "        -0.01617683,  0.01132023], dtype=float32),\n",
       " 'italy': array([ 0.01467705,  0.01869816,  0.00642102, ..., -0.04016697,\n",
       "        -0.02752157,  0.02338845], dtype=float32),\n",
       " 'japan': array([ 0.01379088,  0.02199728,  0.00522004, ..., -0.0411    ,\n",
       "        -0.02499657,  0.02552837], dtype=float32),\n",
       " 'korea': array([ 0.00663196,  0.00783765,  0.00369336, ..., -0.01825251,\n",
       "        -0.01301255,  0.00967835], dtype=float32),\n",
       " 'mexico': array([ 0.00284213,  0.00432249,  0.00126735, ..., -0.00851167,\n",
       "        -0.00554516,  0.00505506], dtype=float32),\n",
       " 'russia': array([ 0.01322279,  0.01410217,  0.0072764 , ..., -0.03505587,\n",
       "        -0.02614639,  0.0184757 ], dtype=float32),\n",
       " 'arabia': array([ 0.00249341,  0.00326374,  0.00116662, ..., -0.00694574,\n",
       "        -0.00470901,  0.00396567], dtype=float32),\n",
       " 'africa': array([ 0.01289812,  0.01569442,  0.00708475, ..., -0.03574404,\n",
       "        -0.02532996,  0.0189415 ], dtype=float32),\n",
       " 'turkey': array([ 0.00693366,  0.00701933,  0.00380384, ..., -0.01802214,\n",
       "        -0.01363662,  0.00944567], dtype=float32),\n",
       " 'uk': array([ 0.01381175,  0.02485281,  0.00355648, ..., -0.0419056 ,\n",
       "        -0.02078427,  0.02854736], dtype=float32),\n",
       " 'america': array([ 0.01192722,  0.01487066,  0.00626876, ..., -0.03327423,\n",
       "        -0.02337248,  0.0181272 ], dtype=float32),\n",
       " 'usa': array([ 0.01488793,  0.02218342,  0.00706467, ..., -0.04352763,\n",
       "        -0.02397383,  0.02603945], dtype=float32),\n",
       " 'eu': array([ 0.01308064,  0.01305547,  0.00737438, ..., -0.03394267,\n",
       "        -0.02568114,  0.01771106], dtype=float32),\n",
       " 'europe': array([ 0.0134155 ,  0.02006165,  0.00539856, ..., -0.03890651,\n",
       "        -0.02465653,  0.02355105], dtype=float32)}"
      ]
     },
     "metadata": {},
     "execution_count": 53
    }
   ],
   "source": [
    "g20_mean_emb"
   ]
  },
  {
   "cell_type": "code",
   "execution_count": null,
   "metadata": {},
   "outputs": [],
   "source": []
  }
 ]
}
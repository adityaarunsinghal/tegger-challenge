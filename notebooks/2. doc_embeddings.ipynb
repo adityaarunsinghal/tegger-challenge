{
 "metadata": {
  "language_info": {
   "codemirror_mode": {
    "name": "ipython",
    "version": 3
   },
   "file_extension": ".py",
   "mimetype": "text/x-python",
   "name": "python",
   "nbconvert_exporter": "python",
   "pygments_lexer": "ipython3",
   "version": "3.9.1-final"
  },
  "orig_nbformat": 2,
  "kernelspec": {
   "name": "python3",
   "display_name": "Python 3.9.1 64-bit",
   "metadata": {
    "interpreter": {
     "hash": "7812ea015bdcee6f23a998adcdd2ef97c151c0c241b7b7070987d9313e41299d"
    }
   }
  }
 },
 "nbformat": 4,
 "nbformat_minor": 2,
 "cells": [
  {
   "source": [
    "# Creating Mean Doc Embeddings from the averages of all words"
   ],
   "cell_type": "markdown",
   "metadata": {}
  },
  {
   "cell_type": "code",
   "execution_count": 26,
   "metadata": {},
   "outputs": [],
   "source": [
    "from sklearn.feature_extraction.text import TfidfVectorizer\n",
    "from sklearn.feature_extraction.text import CountVectorizer\n",
    "from sklearn.cluster import KMeans\n",
    "from gensim.models import Word2Vec\n",
    "import gensim.downloader as api\n",
    "from numpy.linalg import norm\n",
    "import pandas as pd\n",
    "import regex as re\n",
    "import numpy as np\n",
    "import os"
   ]
  },
  {
   "cell_type": "code",
   "execution_count": 27,
   "metadata": {},
   "outputs": [
    {
     "output_type": "execute_result",
     "data": {
      "text/plain": [
       "                                                 all          theme  \\\n",
       "0  musician tackle *USA red tape musician group t...  entertainment   \n",
       "1  u2 desire number one u2 three prestigious gram...  entertainment   \n",
       "2  rocker doherty onstage fight rock singer pete ...  entertainment   \n",
       "3  snicket top *USA box office chart film adaptat...  entertainment   \n",
       "4  ocean twelve raid box office ocean twelve crim...  entertainment   \n",
       "\n",
       "                              title  \\\n",
       "0   Musicians to tackle US red tape   \n",
       "1      U2's desire to be number one   \n",
       "2  Rocker Doherty in on-stage fight   \n",
       "3  Snicket tops US box office chart   \n",
       "4   Ocean's Twelve raids box office   \n",
       "\n",
       "                                            contents  argentina  australia  \\\n",
       "0  Musicians' groups are to tackle US visa regula...          0          0   \n",
       "1  U2, who have won three prestigious Grammy Awar...          0          0   \n",
       "2  Rock singer Pete Doherty has been involved in ...          0          0   \n",
       "3  The film adaptation of Lemony Snicket novels h...          0          0   \n",
       "4  Ocean's Twelve, the crime caper sequel starrin...          0          0   \n",
       "\n",
       "   brazil  canada  china  france  ...  japan  republic of korea  mexico  \\\n",
       "0       0       0      1       0  ...      0                  0       0   \n",
       "1       0       0      0       0  ...      0                  0       0   \n",
       "2       0       0      0       0  ...      0                  0       0   \n",
       "3       0       0      0       0  ...      0                  0       0   \n",
       "4       0       0      0       0  ...      0                  0       0   \n",
       "\n",
       "   russia  saudi arabia  south africa  turkey  united kingdom  united states  \\\n",
       "0       0             0             0       0               1              1   \n",
       "1       0             0             0       0               1              1   \n",
       "2       0             0             0       0               0              0   \n",
       "3       0             0             0       0               1              1   \n",
       "4       0             0             0       0               0              1   \n",
       "\n",
       "   european union  \n",
       "0               1  \n",
       "1               0  \n",
       "2               0  \n",
       "3               0  \n",
       "4               1  \n",
       "\n",
       "[5 rows x 24 columns]"
      ],
      "text/html": "<div>\n<style scoped>\n    .dataframe tbody tr th:only-of-type {\n        vertical-align: middle;\n    }\n\n    .dataframe tbody tr th {\n        vertical-align: top;\n    }\n\n    .dataframe thead th {\n        text-align: right;\n    }\n</style>\n<table border=\"1\" class=\"dataframe\">\n  <thead>\n    <tr style=\"text-align: right;\">\n      <th></th>\n      <th>all</th>\n      <th>theme</th>\n      <th>title</th>\n      <th>contents</th>\n      <th>argentina</th>\n      <th>australia</th>\n      <th>brazil</th>\n      <th>canada</th>\n      <th>china</th>\n      <th>france</th>\n      <th>...</th>\n      <th>japan</th>\n      <th>republic of korea</th>\n      <th>mexico</th>\n      <th>russia</th>\n      <th>saudi arabia</th>\n      <th>south africa</th>\n      <th>turkey</th>\n      <th>united kingdom</th>\n      <th>united states</th>\n      <th>european union</th>\n    </tr>\n  </thead>\n  <tbody>\n    <tr>\n      <th>0</th>\n      <td>musician tackle *USA red tape musician group t...</td>\n      <td>entertainment</td>\n      <td>Musicians to tackle US red tape</td>\n      <td>Musicians' groups are to tackle US visa regula...</td>\n      <td>0</td>\n      <td>0</td>\n      <td>0</td>\n      <td>0</td>\n      <td>1</td>\n      <td>0</td>\n      <td>...</td>\n      <td>0</td>\n      <td>0</td>\n      <td>0</td>\n      <td>0</td>\n      <td>0</td>\n      <td>0</td>\n      <td>0</td>\n      <td>1</td>\n      <td>1</td>\n      <td>1</td>\n    </tr>\n    <tr>\n      <th>1</th>\n      <td>u2 desire number one u2 three prestigious gram...</td>\n      <td>entertainment</td>\n      <td>U2's desire to be number one</td>\n      <td>U2, who have won three prestigious Grammy Awar...</td>\n      <td>0</td>\n      <td>0</td>\n      <td>0</td>\n      <td>0</td>\n      <td>0</td>\n      <td>0</td>\n      <td>...</td>\n      <td>0</td>\n      <td>0</td>\n      <td>0</td>\n      <td>0</td>\n      <td>0</td>\n      <td>0</td>\n      <td>0</td>\n      <td>1</td>\n      <td>1</td>\n      <td>0</td>\n    </tr>\n    <tr>\n      <th>2</th>\n      <td>rocker doherty onstage fight rock singer pete ...</td>\n      <td>entertainment</td>\n      <td>Rocker Doherty in on-stage fight</td>\n      <td>Rock singer Pete Doherty has been involved in ...</td>\n      <td>0</td>\n      <td>0</td>\n      <td>0</td>\n      <td>0</td>\n      <td>0</td>\n      <td>0</td>\n      <td>...</td>\n      <td>0</td>\n      <td>0</td>\n      <td>0</td>\n      <td>0</td>\n      <td>0</td>\n      <td>0</td>\n      <td>0</td>\n      <td>0</td>\n      <td>0</td>\n      <td>0</td>\n    </tr>\n    <tr>\n      <th>3</th>\n      <td>snicket top *USA box office chart film adaptat...</td>\n      <td>entertainment</td>\n      <td>Snicket tops US box office chart</td>\n      <td>The film adaptation of Lemony Snicket novels h...</td>\n      <td>0</td>\n      <td>0</td>\n      <td>0</td>\n      <td>0</td>\n      <td>0</td>\n      <td>0</td>\n      <td>...</td>\n      <td>0</td>\n      <td>0</td>\n      <td>0</td>\n      <td>0</td>\n      <td>0</td>\n      <td>0</td>\n      <td>0</td>\n      <td>1</td>\n      <td>1</td>\n      <td>0</td>\n    </tr>\n    <tr>\n      <th>4</th>\n      <td>ocean twelve raid box office ocean twelve crim...</td>\n      <td>entertainment</td>\n      <td>Ocean's Twelve raids box office</td>\n      <td>Ocean's Twelve, the crime caper sequel starrin...</td>\n      <td>0</td>\n      <td>0</td>\n      <td>0</td>\n      <td>0</td>\n      <td>0</td>\n      <td>0</td>\n      <td>...</td>\n      <td>0</td>\n      <td>0</td>\n      <td>0</td>\n      <td>0</td>\n      <td>0</td>\n      <td>0</td>\n      <td>0</td>\n      <td>0</td>\n      <td>1</td>\n      <td>1</td>\n    </tr>\n  </tbody>\n</table>\n<p>5 rows × 24 columns</p>\n</div>"
     },
     "metadata": {},
     "execution_count": 27
    }
   ],
   "source": [
    "data = pd.read_csv(\"/Users/aditya/Documents/GitHub/tegger-challenge/data.csv\").iloc[:,1:]\n",
    "data.head()"
   ]
  },
  {
   "cell_type": "code",
   "execution_count": 31,
   "metadata": {},
   "outputs": [],
   "source": [
    "corpus = [entry.split(\" \") for entry in data['all']]"
   ]
  },
  {
   "cell_type": "code",
   "execution_count": 33,
   "metadata": {},
   "outputs": [],
   "source": [
    "# model.save(\"w2v_saved.model\")\n",
    "model = Word2Vec.load(\"w2v_saved.model\")"
   ]
  },
  {
   "cell_type": "code",
   "execution_count": 34,
   "metadata": {},
   "outputs": [],
   "source": [
    "g20 = \"Argentina, Australia, Brazil, Canada, China, France, Germany, India, Indonesia, Italy, Japan, Republic of Korea, Korea, Mexico, Russia, Saudi Arabia, Arabia, South Africa, Africa, Turkey, United Kingdom, UK, United States, America, USA, European Union, EU, Europe\".lower()\n",
    "g20 = g20.split(\", \")"
   ]
  },
  {
   "cell_type": "code",
   "execution_count": 42,
   "metadata": {},
   "outputs": [],
   "source": [
    "def get_mean_vector(word2vec_model, words):\n",
    "    words = [word for word in words if word in word2vec_model.wv.vocab.keys()]\n",
    "    if len(words) >= 1:\n",
    "        avg1= np.mean(word2vec_model[words], axis=0)\n",
    "        return avg1\n",
    "    else:\n",
    "        return []"
   ]
  },
  {
   "cell_type": "code",
   "execution_count": 43,
   "metadata": {},
   "outputs": [],
   "source": [
    "data['mean_emb'] = data['all'].apply(lambda x: get_mean_vector(model, x.split(\" \")))"
   ]
  },
  {
   "cell_type": "code",
   "execution_count": 44,
   "metadata": {},
   "outputs": [
    {
     "output_type": "execute_result",
     "data": {
      "text/plain": [
       "                                                 all          theme  \\\n",
       "0  musician tackle *USA red tape musician group t...  entertainment   \n",
       "1  u2 desire number one u2 three prestigious gram...  entertainment   \n",
       "2  rocker doherty onstage fight rock singer pete ...  entertainment   \n",
       "3  snicket top *USA box office chart film adaptat...  entertainment   \n",
       "4  ocean twelve raid box office ocean twelve crim...  entertainment   \n",
       "\n",
       "                              title  \\\n",
       "0   Musicians to tackle US red tape   \n",
       "1      U2's desire to be number one   \n",
       "2  Rocker Doherty in on-stage fight   \n",
       "3  Snicket tops US box office chart   \n",
       "4   Ocean's Twelve raids box office   \n",
       "\n",
       "                                            contents  argentina  australia  \\\n",
       "0  Musicians' groups are to tackle US visa regula...          0          0   \n",
       "1  U2, who have won three prestigious Grammy Awar...          0          0   \n",
       "2  Rock singer Pete Doherty has been involved in ...          0          0   \n",
       "3  The film adaptation of Lemony Snicket novels h...          0          0   \n",
       "4  Ocean's Twelve, the crime caper sequel starrin...          0          0   \n",
       "\n",
       "   brazil  canada  china  france  ...  republic of korea  mexico  russia  \\\n",
       "0       0       0      1       0  ...                  0       0       0   \n",
       "1       0       0      0       0  ...                  0       0       0   \n",
       "2       0       0      0       0  ...                  0       0       0   \n",
       "3       0       0      0       0  ...                  0       0       0   \n",
       "4       0       0      0       0  ...                  0       0       0   \n",
       "\n",
       "   saudi arabia  south africa  turkey  united kingdom  united states  \\\n",
       "0             0             0       0               1              1   \n",
       "1             0             0       0               1              1   \n",
       "2             0             0       0               0              0   \n",
       "3             0             0       0               1              1   \n",
       "4             0             0       0               0              1   \n",
       "\n",
       "   european union                                           mean_emb  \n",
       "0               1  [0.010030553, 0.010555822, 0.0056487704, -0.00...  \n",
       "1               0  [0.009995017, 0.012596794, 0.0047847545, -0.00...  \n",
       "2               0  [0.0095635895, 0.012760582, 0.004244135, -0.00...  \n",
       "3               0  [0.009604343, 0.014471119, 0.0036928602, -0.00...  \n",
       "4               1  [0.0082686655, 0.012306145, 0.003344359, -0.00...  \n",
       "\n",
       "[5 rows x 25 columns]"
      ],
      "text/html": "<div>\n<style scoped>\n    .dataframe tbody tr th:only-of-type {\n        vertical-align: middle;\n    }\n\n    .dataframe tbody tr th {\n        vertical-align: top;\n    }\n\n    .dataframe thead th {\n        text-align: right;\n    }\n</style>\n<table border=\"1\" class=\"dataframe\">\n  <thead>\n    <tr style=\"text-align: right;\">\n      <th></th>\n      <th>all</th>\n      <th>theme</th>\n      <th>title</th>\n      <th>contents</th>\n      <th>argentina</th>\n      <th>australia</th>\n      <th>brazil</th>\n      <th>canada</th>\n      <th>china</th>\n      <th>france</th>\n      <th>...</th>\n      <th>republic of korea</th>\n      <th>mexico</th>\n      <th>russia</th>\n      <th>saudi arabia</th>\n      <th>south africa</th>\n      <th>turkey</th>\n      <th>united kingdom</th>\n      <th>united states</th>\n      <th>european union</th>\n      <th>mean_emb</th>\n    </tr>\n  </thead>\n  <tbody>\n    <tr>\n      <th>0</th>\n      <td>musician tackle *USA red tape musician group t...</td>\n      <td>entertainment</td>\n      <td>Musicians to tackle US red tape</td>\n      <td>Musicians' groups are to tackle US visa regula...</td>\n      <td>0</td>\n      <td>0</td>\n      <td>0</td>\n      <td>0</td>\n      <td>1</td>\n      <td>0</td>\n      <td>...</td>\n      <td>0</td>\n      <td>0</td>\n      <td>0</td>\n      <td>0</td>\n      <td>0</td>\n      <td>0</td>\n      <td>1</td>\n      <td>1</td>\n      <td>1</td>\n      <td>[0.010030553, 0.010555822, 0.0056487704, -0.00...</td>\n    </tr>\n    <tr>\n      <th>1</th>\n      <td>u2 desire number one u2 three prestigious gram...</td>\n      <td>entertainment</td>\n      <td>U2's desire to be number one</td>\n      <td>U2, who have won three prestigious Grammy Awar...</td>\n      <td>0</td>\n      <td>0</td>\n      <td>0</td>\n      <td>0</td>\n      <td>0</td>\n      <td>0</td>\n      <td>...</td>\n      <td>0</td>\n      <td>0</td>\n      <td>0</td>\n      <td>0</td>\n      <td>0</td>\n      <td>0</td>\n      <td>1</td>\n      <td>1</td>\n      <td>0</td>\n      <td>[0.009995017, 0.012596794, 0.0047847545, -0.00...</td>\n    </tr>\n    <tr>\n      <th>2</th>\n      <td>rocker doherty onstage fight rock singer pete ...</td>\n      <td>entertainment</td>\n      <td>Rocker Doherty in on-stage fight</td>\n      <td>Rock singer Pete Doherty has been involved in ...</td>\n      <td>0</td>\n      <td>0</td>\n      <td>0</td>\n      <td>0</td>\n      <td>0</td>\n      <td>0</td>\n      <td>...</td>\n      <td>0</td>\n      <td>0</td>\n      <td>0</td>\n      <td>0</td>\n      <td>0</td>\n      <td>0</td>\n      <td>0</td>\n      <td>0</td>\n      <td>0</td>\n      <td>[0.0095635895, 0.012760582, 0.004244135, -0.00...</td>\n    </tr>\n    <tr>\n      <th>3</th>\n      <td>snicket top *USA box office chart film adaptat...</td>\n      <td>entertainment</td>\n      <td>Snicket tops US box office chart</td>\n      <td>The film adaptation of Lemony Snicket novels h...</td>\n      <td>0</td>\n      <td>0</td>\n      <td>0</td>\n      <td>0</td>\n      <td>0</td>\n      <td>0</td>\n      <td>...</td>\n      <td>0</td>\n      <td>0</td>\n      <td>0</td>\n      <td>0</td>\n      <td>0</td>\n      <td>0</td>\n      <td>1</td>\n      <td>1</td>\n      <td>0</td>\n      <td>[0.009604343, 0.014471119, 0.0036928602, -0.00...</td>\n    </tr>\n    <tr>\n      <th>4</th>\n      <td>ocean twelve raid box office ocean twelve crim...</td>\n      <td>entertainment</td>\n      <td>Ocean's Twelve raids box office</td>\n      <td>Ocean's Twelve, the crime caper sequel starrin...</td>\n      <td>0</td>\n      <td>0</td>\n      <td>0</td>\n      <td>0</td>\n      <td>0</td>\n      <td>0</td>\n      <td>...</td>\n      <td>0</td>\n      <td>0</td>\n      <td>0</td>\n      <td>0</td>\n      <td>0</td>\n      <td>0</td>\n      <td>0</td>\n      <td>1</td>\n      <td>1</td>\n      <td>[0.0082686655, 0.012306145, 0.003344359, -0.00...</td>\n    </tr>\n  </tbody>\n</table>\n<p>5 rows × 25 columns</p>\n</div>"
     },
     "metadata": {},
     "execution_count": 44
    }
   ],
   "source": [
    "data.head()"
   ]
  },
  {
   "cell_type": "code",
   "execution_count": 45,
   "metadata": {},
   "outputs": [],
   "source": [
    "data.to_pickle('/Users/aditya/Documents/GitHub/tegger-challenge/Pickles/mean_embeddings.pkl')"
   ]
  },
  {
   "source": [
    "# From here we go to Cosine SImilarities"
   ],
   "cell_type": "markdown",
   "metadata": {}
  }
 ]
}
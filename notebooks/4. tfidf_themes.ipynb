{
 "metadata": {
  "language_info": {
   "codemirror_mode": {
    "name": "ipython",
    "version": 3
   },
   "file_extension": ".py",
   "mimetype": "text/x-python",
   "name": "python",
   "nbconvert_exporter": "python",
   "pygments_lexer": "ipython3",
   "version": "3.9.1-final"
  },
  "orig_nbformat": 2,
  "kernelspec": {
   "name": "python3",
   "display_name": "Python 3",
   "language": "python"
  }
 },
 "nbformat": 4,
 "nbformat_minor": 2,
 "cells": [
  {
   "source": [
    "# Checking for Top counted words in each Theme"
   ],
   "cell_type": "markdown",
   "metadata": {}
  },
  {
   "cell_type": "code",
   "execution_count": 1,
   "metadata": {},
   "outputs": [],
   "source": [
    "from sklearn.feature_extraction.text import TfidfVectorizer\n",
    "from sklearn.feature_extraction.text import CountVectorizer\n",
    "from sklearn.cluster import KMeans\n",
    "from gensim.models import Word2Vec\n",
    "import gensim.downloader as api\n",
    "from numpy.linalg import norm\n",
    "import pandas as pd\n",
    "import regex as re\n",
    "import numpy as np\n",
    "import os"
   ]
  },
  {
   "cell_type": "code",
   "execution_count": 9,
   "metadata": {},
   "outputs": [
    {
     "output_type": "execute_result",
     "data": {
      "text/plain": [
       "                                                 all          theme\n",
       "0  musician tackle *USA red tape musician group t...  entertainment\n",
       "1  u2 desire number one u2 three prestigious gram...  entertainment\n",
       "2  rocker doherty onstage fight rock singer pete ...  entertainment\n",
       "3  snicket top *USA box office chart film adaptat...  entertainment\n",
       "4  ocean twelve raid box office ocean twelve crim...  entertainment"
      ],
      "text/html": "<div>\n<style scoped>\n    .dataframe tbody tr th:only-of-type {\n        vertical-align: middle;\n    }\n\n    .dataframe tbody tr th {\n        vertical-align: top;\n    }\n\n    .dataframe thead th {\n        text-align: right;\n    }\n</style>\n<table border=\"1\" class=\"dataframe\">\n  <thead>\n    <tr style=\"text-align: right;\">\n      <th></th>\n      <th>all</th>\n      <th>theme</th>\n    </tr>\n  </thead>\n  <tbody>\n    <tr>\n      <th>0</th>\n      <td>musician tackle *USA red tape musician group t...</td>\n      <td>entertainment</td>\n    </tr>\n    <tr>\n      <th>1</th>\n      <td>u2 desire number one u2 three prestigious gram...</td>\n      <td>entertainment</td>\n    </tr>\n    <tr>\n      <th>2</th>\n      <td>rocker doherty onstage fight rock singer pete ...</td>\n      <td>entertainment</td>\n    </tr>\n    <tr>\n      <th>3</th>\n      <td>snicket top *USA box office chart film adaptat...</td>\n      <td>entertainment</td>\n    </tr>\n    <tr>\n      <th>4</th>\n      <td>ocean twelve raid box office ocean twelve crim...</td>\n      <td>entertainment</td>\n    </tr>\n  </tbody>\n</table>\n</div>"
     },
     "metadata": {},
     "execution_count": 9
    }
   ],
   "source": [
    "data = pd.read_csv(\"/Users/aditya/Documents/GitHub/tegger-challenge/data.csv\").iloc[:,1:3]\n",
    "data.head()"
   ]
  },
  {
   "cell_type": "code",
   "execution_count": 10,
   "metadata": {},
   "outputs": [],
   "source": [
    "themes = ['entertainment', 'business', 'politics', 'sport', 'tech']"
   ]
  },
  {
   "cell_type": "code",
   "execution_count": 40,
   "metadata": {},
   "outputs": [
    {
     "output_type": "stream",
     "name": "stdout",
     "text": [
      "\n",
      "entertainment\n",
      "\n",
      "\n",
      "                     0\n",
      "wilson             206\n",
      "achievement award  208\n",
      "asked              210\n",
      "history            213\n",
      "project            227\n",
      "thousand           232\n",
      "short              233\n",
      "need               233\n",
      "eventually         235\n",
      "fact               241\n",
      "spokeswoman        249\n",
      "irish              322\n",
      "split              323\n",
      "beautiful          328\n",
      "best actor         435\n",
      "veteran            506\n",
      "later              591\n",
      "voter              595\n",
      "celebrity          825\n",
      "help               941\n",
      "\n",
      "business\n",
      "\n",
      "\n",
      "               0\n",
      "43           294\n",
      "greater      307\n",
      "2005         310\n",
      "finance      310\n",
      "shell        311\n",
      "looked       319\n",
      "special      357\n",
      "lawyer       383\n",
      "fully        384\n",
      "small        385\n",
      "merge        385\n",
      "asian        413\n",
      "improvement  414\n",
      "car maker    416\n",
      "deficit      520\n",
      "summer       555\n",
      "reached      603\n",
      "use          627\n",
      "boosting     789\n",
      "threatened   884\n",
      "\n",
      "politics\n",
      "\n",
      "\n",
      "                          0\n",
      "turning                 322\n",
      "margin                  328\n",
      "served                  340\n",
      "credit                  358\n",
      "writing                 359\n",
      "deputy prime minister   360\n",
      "say mr                  384\n",
      "argument                409\n",
      "developing              410\n",
      "stopped                 430\n",
      "involvement             501\n",
      "government say          510\n",
      "fine                    565\n",
      "news                    574\n",
      "labour manifesto        623\n",
      "committee said          629\n",
      "couple                  709\n",
      "predicted               743\n",
      "pair                    760\n",
      "test                   1718\n",
      "\n",
      "sport\n",
      "\n",
      "\n",
      "                              0\n",
      "skill                       259\n",
      "began                       264\n",
      "spell                       265\n",
      "brian odriscoll             270\n",
      "manchester city             285\n",
      "athlete                     289\n",
      "cross country championship  292\n",
      "goalkeeper                  304\n",
      "hemisphere                  310\n",
      "settle                      312\n",
      "fan                         322\n",
      "tom                         385\n",
      "opinion                     386\n",
      "new year                    444\n",
      "broken                      459\n",
      "turning                     468\n",
      "jason gardener              474\n",
      "germany                     503\n",
      "roddick                     647\n",
      "favour                      941\n",
      "\n",
      "tech\n",
      "\n",
      "\n",
      "                          0\n",
      "china                   354\n",
      "clicking                359\n",
      "initially               365\n",
      "bbc                     373\n",
      "provide                 373\n",
      "regularly               377\n",
      "corporation             379\n",
      "various                 384\n",
      "technical               391\n",
      "installed               404\n",
      "digital video recorder  466\n",
      "linux                   498\n",
      "story                   510\n",
      "analyst jupiter         512\n",
      "behaviour               517\n",
      "bandwidth               539\n",
      "higher                  585\n",
      "dropped                 617\n",
      "application             720\n",
      "money                   960\n"
     ]
    }
   ],
   "source": [
    "for each in themes:\n",
    "    cv=CountVectorizer(min_df=10,stop_words='english', max_df=0.85, ngram_range=(1,3))\n",
    "    word_count_vector=cv.fit_transform(data[data.theme==each]['all'])\n",
    "    print(\"\\n\" + each + \"\\n\\n\")\n",
    "    print(pd.DataFrame(word_count_vector.toarray().sum(axis=0), cv.vocabulary_.keys()).sort_values(by=0)[-20:])"
   ]
  }
 ]
}
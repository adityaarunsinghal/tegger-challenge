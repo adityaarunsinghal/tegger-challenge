{
 "metadata": {
  "language_info": {
   "codemirror_mode": {
    "name": "ipython",
    "version": 3
   },
   "file_extension": ".py",
   "mimetype": "text/x-python",
   "name": "python",
   "nbconvert_exporter": "python",
   "pygments_lexer": "ipython3",
   "version": "3.9.1-final"
  },
  "orig_nbformat": 2,
  "kernelspec": {
   "name": "python3",
   "display_name": "Python 3",
   "language": "python"
  }
 },
 "nbformat": 4,
 "nbformat_minor": 2,
 "cells": [
  {
   "source": [
    "# Using cosine similarities between g20 embeddings and all other doc embeddings to create a sparse matrix of Topics"
   ],
   "cell_type": "markdown",
   "metadata": {}
  },
  {
   "cell_type": "code",
   "execution_count": 1,
   "metadata": {},
   "outputs": [],
   "source": [
    "from sklearn.feature_extraction.text import TfidfVectorizer\n",
    "from sklearn.feature_extraction.text import CountVectorizer\n",
    "from sklearn.cluster import KMeans\n",
    "from gensim.models import Word2Vec\n",
    "import gensim.downloader as api\n",
    "from numpy.linalg import norm\n",
    "import pandas as pd\n",
    "import regex as re\n",
    "import numpy as np\n",
    "import os"
   ]
  },
  {
   "cell_type": "code",
   "execution_count": 19,
   "metadata": {},
   "outputs": [
    {
     "output_type": "execute_result",
     "data": {
      "text/plain": [
       "                                                 all          theme  \\\n",
       "0  musician tackle *USA red tape musician group t...  entertainment   \n",
       "1  u2 desire number one u2 three prestigious gram...  entertainment   \n",
       "2  rocker doherty onstage fight rock singer pete ...  entertainment   \n",
       "3  snicket top *USA box office chart film adaptat...  entertainment   \n",
       "4  ocean twelve raid box office ocean twelve crim...  entertainment   \n",
       "\n",
       "                              title  \\\n",
       "0   Musicians to tackle US red tape   \n",
       "1      U2's desire to be number one   \n",
       "2  Rocker Doherty in on-stage fight   \n",
       "3  Snicket tops US box office chart   \n",
       "4   Ocean's Twelve raids box office   \n",
       "\n",
       "                                            contents  argentina  australia  \\\n",
       "0  Musicians' groups are to tackle US visa regula...          0          0   \n",
       "1  U2, who have won three prestigious Grammy Awar...          0          0   \n",
       "2  Rock singer Pete Doherty has been involved in ...          0          0   \n",
       "3  The film adaptation of Lemony Snicket novels h...          0          0   \n",
       "4  Ocean's Twelve, the crime caper sequel starrin...          0          0   \n",
       "\n",
       "   brazil  canada  china  france  ...  republic of korea  mexico  russia  \\\n",
       "0       0       0      1       0  ...                  0       0       0   \n",
       "1       0       0      0       0  ...                  0       0       0   \n",
       "2       0       0      0       0  ...                  0       0       0   \n",
       "3       0       0      0       0  ...                  0       0       0   \n",
       "4       0       0      0       0  ...                  0       0       0   \n",
       "\n",
       "   saudi arabia  south africa  turkey  united kingdom  united states  \\\n",
       "0             0             0       0               1              1   \n",
       "1             0             0       0               1              1   \n",
       "2             0             0       0               0              0   \n",
       "3             0             0       0               1              1   \n",
       "4             0             0       0               0              1   \n",
       "\n",
       "   european union                                           mean_emb  \n",
       "0               1  [0.010030553, 0.010555822, 0.0056487704, -0.00...  \n",
       "1               0  [0.009995017, 0.012596794, 0.0047847545, -0.00...  \n",
       "2               0  [0.0095635895, 0.012760582, 0.004244135, -0.00...  \n",
       "3               0  [0.009604343, 0.014471119, 0.0036928602, -0.00...  \n",
       "4               1  [0.0082686655, 0.012306145, 0.003344359, -0.00...  \n",
       "\n",
       "[5 rows x 25 columns]"
      ],
      "text/html": "<div>\n<style scoped>\n    .dataframe tbody tr th:only-of-type {\n        vertical-align: middle;\n    }\n\n    .dataframe tbody tr th {\n        vertical-align: top;\n    }\n\n    .dataframe thead th {\n        text-align: right;\n    }\n</style>\n<table border=\"1\" class=\"dataframe\">\n  <thead>\n    <tr style=\"text-align: right;\">\n      <th></th>\n      <th>all</th>\n      <th>theme</th>\n      <th>title</th>\n      <th>contents</th>\n      <th>argentina</th>\n      <th>australia</th>\n      <th>brazil</th>\n      <th>canada</th>\n      <th>china</th>\n      <th>france</th>\n      <th>...</th>\n      <th>republic of korea</th>\n      <th>mexico</th>\n      <th>russia</th>\n      <th>saudi arabia</th>\n      <th>south africa</th>\n      <th>turkey</th>\n      <th>united kingdom</th>\n      <th>united states</th>\n      <th>european union</th>\n      <th>mean_emb</th>\n    </tr>\n  </thead>\n  <tbody>\n    <tr>\n      <th>0</th>\n      <td>musician tackle *USA red tape musician group t...</td>\n      <td>entertainment</td>\n      <td>Musicians to tackle US red tape</td>\n      <td>Musicians' groups are to tackle US visa regula...</td>\n      <td>0</td>\n      <td>0</td>\n      <td>0</td>\n      <td>0</td>\n      <td>1</td>\n      <td>0</td>\n      <td>...</td>\n      <td>0</td>\n      <td>0</td>\n      <td>0</td>\n      <td>0</td>\n      <td>0</td>\n      <td>0</td>\n      <td>1</td>\n      <td>1</td>\n      <td>1</td>\n      <td>[0.010030553, 0.010555822, 0.0056487704, -0.00...</td>\n    </tr>\n    <tr>\n      <th>1</th>\n      <td>u2 desire number one u2 three prestigious gram...</td>\n      <td>entertainment</td>\n      <td>U2's desire to be number one</td>\n      <td>U2, who have won three prestigious Grammy Awar...</td>\n      <td>0</td>\n      <td>0</td>\n      <td>0</td>\n      <td>0</td>\n      <td>0</td>\n      <td>0</td>\n      <td>...</td>\n      <td>0</td>\n      <td>0</td>\n      <td>0</td>\n      <td>0</td>\n      <td>0</td>\n      <td>0</td>\n      <td>1</td>\n      <td>1</td>\n      <td>0</td>\n      <td>[0.009995017, 0.012596794, 0.0047847545, -0.00...</td>\n    </tr>\n    <tr>\n      <th>2</th>\n      <td>rocker doherty onstage fight rock singer pete ...</td>\n      <td>entertainment</td>\n      <td>Rocker Doherty in on-stage fight</td>\n      <td>Rock singer Pete Doherty has been involved in ...</td>\n      <td>0</td>\n      <td>0</td>\n      <td>0</td>\n      <td>0</td>\n      <td>0</td>\n      <td>0</td>\n      <td>...</td>\n      <td>0</td>\n      <td>0</td>\n      <td>0</td>\n      <td>0</td>\n      <td>0</td>\n      <td>0</td>\n      <td>0</td>\n      <td>0</td>\n      <td>0</td>\n      <td>[0.0095635895, 0.012760582, 0.004244135, -0.00...</td>\n    </tr>\n    <tr>\n      <th>3</th>\n      <td>snicket top *USA box office chart film adaptat...</td>\n      <td>entertainment</td>\n      <td>Snicket tops US box office chart</td>\n      <td>The film adaptation of Lemony Snicket novels h...</td>\n      <td>0</td>\n      <td>0</td>\n      <td>0</td>\n      <td>0</td>\n      <td>0</td>\n      <td>0</td>\n      <td>...</td>\n      <td>0</td>\n      <td>0</td>\n      <td>0</td>\n      <td>0</td>\n      <td>0</td>\n      <td>0</td>\n      <td>1</td>\n      <td>1</td>\n      <td>0</td>\n      <td>[0.009604343, 0.014471119, 0.0036928602, -0.00...</td>\n    </tr>\n    <tr>\n      <th>4</th>\n      <td>ocean twelve raid box office ocean twelve crim...</td>\n      <td>entertainment</td>\n      <td>Ocean's Twelve raids box office</td>\n      <td>Ocean's Twelve, the crime caper sequel starrin...</td>\n      <td>0</td>\n      <td>0</td>\n      <td>0</td>\n      <td>0</td>\n      <td>0</td>\n      <td>0</td>\n      <td>...</td>\n      <td>0</td>\n      <td>0</td>\n      <td>0</td>\n      <td>0</td>\n      <td>0</td>\n      <td>0</td>\n      <td>0</td>\n      <td>1</td>\n      <td>1</td>\n      <td>[0.0082686655, 0.012306145, 0.003344359, -0.00...</td>\n    </tr>\n  </tbody>\n</table>\n<p>5 rows × 25 columns</p>\n</div>"
     },
     "metadata": {},
     "execution_count": 19
    }
   ],
   "source": [
    "maindata = pd.read_pickle('/Users/aditya/Documents/GitHub/tegger-challenge/Pickles/mean_embeddings.pkl')\n",
    "maindata.head()"
   ]
  },
  {
   "cell_type": "code",
   "execution_count": 3,
   "metadata": {},
   "outputs": [],
   "source": [
    "g20 = \"Argentina, Australia, Brazil, Canada, China, France, Germany, India, Indonesia, Italy, Japan, Korea, Mexico, Russia, Arabia, Africa, Turkey, UK, america, eu\".lower()\n",
    "g20 = g20.split(\", \")"
   ]
  },
  {
   "cell_type": "code",
   "execution_count": 6,
   "metadata": {},
   "outputs": [],
   "source": [
    "model = Word2Vec.load(\"/Users/aditya/Documents/GitHub/tegger-challenge/Pickles/w2v_saved.model\")"
   ]
  },
  {
   "cell_type": "code",
   "execution_count": 7,
   "metadata": {},
   "outputs": [],
   "source": [
    "# this is the embeddings for the important (g20 mentioning) words\n",
    "\n",
    "g20_mean_emb = {}\n",
    "for each in g20:\n",
    "    try:\n",
    "        g20_mean_emb[each] = model['*'+each.upper()]\n",
    "    except:\n",
    "        g20_mean_emb[each] = model[each]"
   ]
  },
  {
   "cell_type": "code",
   "execution_count": 8,
   "metadata": {},
   "outputs": [
    {
     "output_type": "execute_result",
     "data": {
      "text/plain": [
       "{'argentina': array([ 0.01205488,  0.01540329,  0.00587998, ..., -0.03364547,\n",
       "        -0.02346341,  0.01895906], dtype=float32),\n",
       " 'australia': array([ 0.0120225 ,  0.01579212,  0.00597072, ..., -0.03384686,\n",
       "        -0.0229663 ,  0.01896352], dtype=float32),\n",
       " 'brazil': array([ 0.00753566,  0.00865833,  0.00401651, ..., -0.02044253,\n",
       "        -0.01490953,  0.01099955], dtype=float32),\n",
       " 'canada': array([ 0.00579164,  0.00740887,  0.00269136, ..., -0.01600016,\n",
       "        -0.01082051,  0.00921129], dtype=float32),\n",
       " 'china': array([ 0.01522709,  0.01920916,  0.00810206, ..., -0.04266999,\n",
       "        -0.02943521,  0.02328844], dtype=float32),\n",
       " 'france': array([ 0.01525989,  0.0218841 ,  0.00681947, ..., -0.04391771,\n",
       "        -0.02820129,  0.02574923], dtype=float32),\n",
       " 'germany': array([ 0.01111386,  0.01362935,  0.00545584, ..., -0.03046325,\n",
       "        -0.0210385 ,  0.01710157], dtype=float32),\n",
       " 'india': array([ 0.01481213,  0.01650877,  0.008064  , ..., -0.03975716,\n",
       "        -0.02910383,  0.02112232], dtype=float32),\n",
       " 'indonesia': array([ 0.00805082,  0.00893677,  0.00459265, ..., -0.02177793,\n",
       "        -0.01617683,  0.01132023], dtype=float32),\n",
       " 'italy': array([ 0.01467705,  0.01869816,  0.00642102, ..., -0.04016697,\n",
       "        -0.02752157,  0.02338845], dtype=float32),\n",
       " 'japan': array([ 0.01379088,  0.02199728,  0.00522004, ..., -0.0411    ,\n",
       "        -0.02499657,  0.02552837], dtype=float32),\n",
       " 'korea': array([ 0.00663196,  0.00783765,  0.00369336, ..., -0.01825251,\n",
       "        -0.01301255,  0.00967835], dtype=float32),\n",
       " 'mexico': array([ 0.00284213,  0.00432249,  0.00126735, ..., -0.00851167,\n",
       "        -0.00554516,  0.00505506], dtype=float32),\n",
       " 'russia': array([ 0.01322279,  0.01410217,  0.0072764 , ..., -0.03505587,\n",
       "        -0.02614639,  0.0184757 ], dtype=float32),\n",
       " 'arabia': array([ 0.00249341,  0.00326374,  0.00116662, ..., -0.00694574,\n",
       "        -0.00470901,  0.00396567], dtype=float32),\n",
       " 'africa': array([ 0.01289812,  0.01569442,  0.00708475, ..., -0.03574404,\n",
       "        -0.02532996,  0.0189415 ], dtype=float32),\n",
       " 'turkey': array([ 0.00693366,  0.00701933,  0.00380384, ..., -0.01802214,\n",
       "        -0.01363662,  0.00944567], dtype=float32),\n",
       " 'uk': array([ 0.01381175,  0.02485281,  0.00355648, ..., -0.0419056 ,\n",
       "        -0.02078427,  0.02854736], dtype=float32),\n",
       " 'america': array([ 0.01192722,  0.01487066,  0.00626876, ..., -0.03327423,\n",
       "        -0.02337248,  0.0181272 ], dtype=float32),\n",
       " 'eu': array([ 0.01308064,  0.01305547,  0.00737438, ..., -0.03394267,\n",
       "        -0.02568114,  0.01771106], dtype=float32)}"
      ]
     },
     "metadata": {},
     "execution_count": 8
    }
   ],
   "source": [
    "g20_mean_emb"
   ]
  },
  {
   "cell_type": "code",
   "execution_count": 9,
   "metadata": {},
   "outputs": [],
   "source": [
    "# simple cosine similarity function\n",
    "\n",
    "def sim(b):\n",
    "    sims = []\n",
    "    for each in g20:\n",
    "        a = g20_mean_emb[each]\n",
    "        sims.append(np.dot(a, b)/(norm(a)*norm(b)))\n",
    "    return sims"
   ]
  },
  {
   "cell_type": "code",
   "execution_count": 10,
   "metadata": {},
   "outputs": [
    {
     "output_type": "execute_result",
     "data": {
      "text/plain": [
       "[0.9966552,\n",
       " 0.9954498,\n",
       " 0.99931955,\n",
       " 0.99488163,\n",
       " 0.997215,\n",
       " 0.9896934,\n",
       " 0.9968328,\n",
       " 0.99961454,\n",
       " 0.99985653,\n",
       " 0.9949286,\n",
       " 0.98023343,\n",
       " 0.9989037,\n",
       " 0.9888792,\n",
       " 0.99979323,\n",
       " 0.99491817,\n",
       " 0.9983936,\n",
       " 0.9997712,\n",
       " 0.94626665,\n",
       " 0.997785,\n",
       " 0.99946123]"
      ]
     },
     "metadata": {},
     "execution_count": 10
    }
   ],
   "source": [
    "sim(data['mean_emb'][0])"
   ]
  },
  {
   "cell_type": "code",
   "execution_count": 11,
   "metadata": {},
   "outputs": [],
   "source": [
    "data = maindata.copy()\n",
    "data['sims'] = data['mean_emb'].apply(lambda x: sim(x))"
   ]
  },
  {
   "cell_type": "code",
   "execution_count": 12,
   "metadata": {},
   "outputs": [
    {
     "output_type": "execute_result",
     "data": {
      "text/plain": [
       "             0         1         2         3         4         5         6  \\\n",
       "0     0.996655  0.995450  0.999320  0.994882  0.997215  0.989693  0.996833   \n",
       "1     0.999876  0.999552  0.999346  0.999294  0.999811  0.997180  0.999719   \n",
       "2     0.999472  0.999810  0.997153  0.999584  0.999214  0.999321  0.999151   \n",
       "3     0.995488  0.996607  0.990179  0.996918  0.994651  0.999418  0.995030   \n",
       "4     0.996738  0.997755  0.992083  0.997795  0.996090  0.999788  0.996235   \n",
       "...        ...       ...       ...       ...       ...       ...       ...   \n",
       "2220  0.994372  0.992669  0.998142  0.992280  0.994954  0.985817  0.994740   \n",
       "2221  0.999116  0.999584  0.996232  0.999470  0.998753  0.999723  0.998767   \n",
       "2222  0.999945  0.999666  0.998981  0.999655  0.999729  0.997828  0.999852   \n",
       "2223  0.998841  0.997833  0.999895  0.997936  0.998874  0.993951  0.999079   \n",
       "2224  0.998652  0.997707  0.999963  0.997517  0.998857  0.993470  0.998807   \n",
       "\n",
       "             7         8         9  ...        11        12        13  \\\n",
       "0     0.999615  0.999857  0.994929  ...  0.998904  0.988879  0.999793   \n",
       "1     0.998932  0.998430  0.999366  ...  0.999517  0.996825  0.998066   \n",
       "2     0.996381  0.995503  0.999602  ...  0.997772  0.999068  0.994857   \n",
       "3     0.988784  0.987069  0.996854  ...  0.991356  0.999471  0.986360   \n",
       "4     0.990819  0.989362  0.997730  ...  0.993198  0.999824  0.988545   \n",
       "...        ...       ...       ...  ...       ...       ...       ...   \n",
       "2220  0.998663  0.999042  0.992406  ...  0.997348  0.984863  0.999308   \n",
       "2221  0.995341  0.994301  0.999443  ...  0.996974  0.999574  0.993658   \n",
       "2222  0.998484  0.997775  0.999738  ...  0.999162  0.997443  0.997535   \n",
       "2223  0.999843  0.999459  0.998028  ...  0.999579  0.993261  0.999663   \n",
       "2224  0.999968  0.999772  0.997586  ...  0.999713  0.992786  0.999781   \n",
       "\n",
       "            14        15        16        17        18        19    id  \n",
       "0     0.994918  0.998394  0.999771  0.946267  0.997785  0.999461     0  \n",
       "1     0.999473  0.999537  0.997079  0.966031  0.999879  0.996359     1  \n",
       "2     0.999931  0.998188  0.993326  0.975108  0.998957  0.992333     2  \n",
       "3     0.997141  0.992113  0.983952  0.987683  0.993855  0.982745     3  \n",
       "4     0.998141  0.993964  0.986293  0.984982  0.995419  0.985090     4  \n",
       "...        ...       ...       ...       ...       ...       ...   ...  \n",
       "2220  0.992111  0.996501  0.999684  0.938578  0.995725  0.999579  2220  \n",
       "2221  0.999751  0.997428  0.991941  0.977875  0.998388  0.990944  2221  \n",
       "2222  0.999718  0.999149  0.996467  0.968835  0.999711  0.995754  2222  \n",
       "2223  0.997687  0.999047  0.999254  0.957757  0.999168  0.998917  2223  \n",
       "2224  0.997442  0.999283  0.999399  0.955762  0.999197  0.999001  2224  \n",
       "\n",
       "[2225 rows x 21 columns]"
      ],
      "text/html": "<div>\n<style scoped>\n    .dataframe tbody tr th:only-of-type {\n        vertical-align: middle;\n    }\n\n    .dataframe tbody tr th {\n        vertical-align: top;\n    }\n\n    .dataframe thead th {\n        text-align: right;\n    }\n</style>\n<table border=\"1\" class=\"dataframe\">\n  <thead>\n    <tr style=\"text-align: right;\">\n      <th></th>\n      <th>0</th>\n      <th>1</th>\n      <th>2</th>\n      <th>3</th>\n      <th>4</th>\n      <th>5</th>\n      <th>6</th>\n      <th>7</th>\n      <th>8</th>\n      <th>9</th>\n      <th>...</th>\n      <th>11</th>\n      <th>12</th>\n      <th>13</th>\n      <th>14</th>\n      <th>15</th>\n      <th>16</th>\n      <th>17</th>\n      <th>18</th>\n      <th>19</th>\n      <th>id</th>\n    </tr>\n  </thead>\n  <tbody>\n    <tr>\n      <th>0</th>\n      <td>0.996655</td>\n      <td>0.995450</td>\n      <td>0.999320</td>\n      <td>0.994882</td>\n      <td>0.997215</td>\n      <td>0.989693</td>\n      <td>0.996833</td>\n      <td>0.999615</td>\n      <td>0.999857</td>\n      <td>0.994929</td>\n      <td>...</td>\n      <td>0.998904</td>\n      <td>0.988879</td>\n      <td>0.999793</td>\n      <td>0.994918</td>\n      <td>0.998394</td>\n      <td>0.999771</td>\n      <td>0.946267</td>\n      <td>0.997785</td>\n      <td>0.999461</td>\n      <td>0</td>\n    </tr>\n    <tr>\n      <th>1</th>\n      <td>0.999876</td>\n      <td>0.999552</td>\n      <td>0.999346</td>\n      <td>0.999294</td>\n      <td>0.999811</td>\n      <td>0.997180</td>\n      <td>0.999719</td>\n      <td>0.998932</td>\n      <td>0.998430</td>\n      <td>0.999366</td>\n      <td>...</td>\n      <td>0.999517</td>\n      <td>0.996825</td>\n      <td>0.998066</td>\n      <td>0.999473</td>\n      <td>0.999537</td>\n      <td>0.997079</td>\n      <td>0.966031</td>\n      <td>0.999879</td>\n      <td>0.996359</td>\n      <td>1</td>\n    </tr>\n    <tr>\n      <th>2</th>\n      <td>0.999472</td>\n      <td>0.999810</td>\n      <td>0.997153</td>\n      <td>0.999584</td>\n      <td>0.999214</td>\n      <td>0.999321</td>\n      <td>0.999151</td>\n      <td>0.996381</td>\n      <td>0.995503</td>\n      <td>0.999602</td>\n      <td>...</td>\n      <td>0.997772</td>\n      <td>0.999068</td>\n      <td>0.994857</td>\n      <td>0.999931</td>\n      <td>0.998188</td>\n      <td>0.993326</td>\n      <td>0.975108</td>\n      <td>0.998957</td>\n      <td>0.992333</td>\n      <td>2</td>\n    </tr>\n    <tr>\n      <th>3</th>\n      <td>0.995488</td>\n      <td>0.996607</td>\n      <td>0.990179</td>\n      <td>0.996918</td>\n      <td>0.994651</td>\n      <td>0.999418</td>\n      <td>0.995030</td>\n      <td>0.988784</td>\n      <td>0.987069</td>\n      <td>0.996854</td>\n      <td>...</td>\n      <td>0.991356</td>\n      <td>0.999471</td>\n      <td>0.986360</td>\n      <td>0.997141</td>\n      <td>0.992113</td>\n      <td>0.983952</td>\n      <td>0.987683</td>\n      <td>0.993855</td>\n      <td>0.982745</td>\n      <td>3</td>\n    </tr>\n    <tr>\n      <th>4</th>\n      <td>0.996738</td>\n      <td>0.997755</td>\n      <td>0.992083</td>\n      <td>0.997795</td>\n      <td>0.996090</td>\n      <td>0.999788</td>\n      <td>0.996235</td>\n      <td>0.990819</td>\n      <td>0.989362</td>\n      <td>0.997730</td>\n      <td>...</td>\n      <td>0.993198</td>\n      <td>0.999824</td>\n      <td>0.988545</td>\n      <td>0.998141</td>\n      <td>0.993964</td>\n      <td>0.986293</td>\n      <td>0.984982</td>\n      <td>0.995419</td>\n      <td>0.985090</td>\n      <td>4</td>\n    </tr>\n    <tr>\n      <th>...</th>\n      <td>...</td>\n      <td>...</td>\n      <td>...</td>\n      <td>...</td>\n      <td>...</td>\n      <td>...</td>\n      <td>...</td>\n      <td>...</td>\n      <td>...</td>\n      <td>...</td>\n      <td>...</td>\n      <td>...</td>\n      <td>...</td>\n      <td>...</td>\n      <td>...</td>\n      <td>...</td>\n      <td>...</td>\n      <td>...</td>\n      <td>...</td>\n      <td>...</td>\n      <td>...</td>\n    </tr>\n    <tr>\n      <th>2220</th>\n      <td>0.994372</td>\n      <td>0.992669</td>\n      <td>0.998142</td>\n      <td>0.992280</td>\n      <td>0.994954</td>\n      <td>0.985817</td>\n      <td>0.994740</td>\n      <td>0.998663</td>\n      <td>0.999042</td>\n      <td>0.992406</td>\n      <td>...</td>\n      <td>0.997348</td>\n      <td>0.984863</td>\n      <td>0.999308</td>\n      <td>0.992111</td>\n      <td>0.996501</td>\n      <td>0.999684</td>\n      <td>0.938578</td>\n      <td>0.995725</td>\n      <td>0.999579</td>\n      <td>2220</td>\n    </tr>\n    <tr>\n      <th>2221</th>\n      <td>0.999116</td>\n      <td>0.999584</td>\n      <td>0.996232</td>\n      <td>0.999470</td>\n      <td>0.998753</td>\n      <td>0.999723</td>\n      <td>0.998767</td>\n      <td>0.995341</td>\n      <td>0.994301</td>\n      <td>0.999443</td>\n      <td>...</td>\n      <td>0.996974</td>\n      <td>0.999574</td>\n      <td>0.993658</td>\n      <td>0.999751</td>\n      <td>0.997428</td>\n      <td>0.991941</td>\n      <td>0.977875</td>\n      <td>0.998388</td>\n      <td>0.990944</td>\n      <td>2221</td>\n    </tr>\n    <tr>\n      <th>2222</th>\n      <td>0.999945</td>\n      <td>0.999666</td>\n      <td>0.998981</td>\n      <td>0.999655</td>\n      <td>0.999729</td>\n      <td>0.997828</td>\n      <td>0.999852</td>\n      <td>0.998484</td>\n      <td>0.997775</td>\n      <td>0.999738</td>\n      <td>...</td>\n      <td>0.999162</td>\n      <td>0.997443</td>\n      <td>0.997535</td>\n      <td>0.999718</td>\n      <td>0.999149</td>\n      <td>0.996467</td>\n      <td>0.968835</td>\n      <td>0.999711</td>\n      <td>0.995754</td>\n      <td>2222</td>\n    </tr>\n    <tr>\n      <th>2223</th>\n      <td>0.998841</td>\n      <td>0.997833</td>\n      <td>0.999895</td>\n      <td>0.997936</td>\n      <td>0.998874</td>\n      <td>0.993951</td>\n      <td>0.999079</td>\n      <td>0.999843</td>\n      <td>0.999459</td>\n      <td>0.998028</td>\n      <td>...</td>\n      <td>0.999579</td>\n      <td>0.993261</td>\n      <td>0.999663</td>\n      <td>0.997687</td>\n      <td>0.999047</td>\n      <td>0.999254</td>\n      <td>0.957757</td>\n      <td>0.999168</td>\n      <td>0.998917</td>\n      <td>2223</td>\n    </tr>\n    <tr>\n      <th>2224</th>\n      <td>0.998652</td>\n      <td>0.997707</td>\n      <td>0.999963</td>\n      <td>0.997517</td>\n      <td>0.998857</td>\n      <td>0.993470</td>\n      <td>0.998807</td>\n      <td>0.999968</td>\n      <td>0.999772</td>\n      <td>0.997586</td>\n      <td>...</td>\n      <td>0.999713</td>\n      <td>0.992786</td>\n      <td>0.999781</td>\n      <td>0.997442</td>\n      <td>0.999283</td>\n      <td>0.999399</td>\n      <td>0.955762</td>\n      <td>0.999197</td>\n      <td>0.999001</td>\n      <td>2224</td>\n    </tr>\n  </tbody>\n</table>\n<p>2225 rows × 21 columns</p>\n</div>"
     },
     "metadata": {},
     "execution_count": 12
    }
   ],
   "source": [
    "sims = pd.DataFrame(data.sims.tolist(), index= data.index)\n",
    "sims['id'] = data.index\n",
    "sims"
   ]
  },
  {
   "cell_type": "code",
   "execution_count": 13,
   "metadata": {},
   "outputs": [],
   "source": [
    "def lookup(n, col):\n",
    "    relevant = sims.loc[:,[col,'id']].sort_values(by = col).iloc[-n]\n",
    "    id = int(relevant['id'])\n",
    "    print(data.loc[id, 'title'] + \"\\n\")\n",
    "    print(str(relevant[col]) + \"\\n\")\n",
    "    print(data.loc[id, 'contents'] + \"\\n\")"
   ]
  },
  {
   "cell_type": "code",
   "execution_count": 14,
   "metadata": {},
   "outputs": [
    {
     "output_type": "execute_result",
     "data": {
      "text/plain": [
       "'Argentina, Australia, Brazil, Canada, China, France, Germany, India, Indonesia, Italy, Japan, Republic of Korea, Mexico, Russia, Saudi Arabia, South Africa, Turkey, United Kingdom, United States, European Union'"
      ]
     },
     "metadata": {},
     "execution_count": 14
    }
   ],
   "source": [
    "\"Argentina, Australia, Brazil, Canada, China, France, Germany, India, Indonesia, Italy, Japan, Republic of Korea, Mexico, Russia, Saudi Arabia, South Africa, Turkey, United Kingdom, United States, European Union\""
   ]
  },
  {
   "cell_type": "code",
   "execution_count": 15,
   "metadata": {},
   "outputs": [
    {
     "output_type": "stream",
     "name": "stdout",
     "text": [
      "DVD copy protection strengthened\n\n0.9999194741249084\n\nDVDs will be harder to copy thanks to new anti-piracy measures devised by copy protection firm Macrovision.\n\nThe pirated DVD market is enormous because current copy protection was hacked more than five years ago. Macrovision says its new RipGuard technology will thwart most, but not all, of the current DVD ripping (copying) programs used to pirate DVDs. \"RipGuard is designed to... reduce DVD ripping and the resulting supply of illegal peer to peer,\" said the firm. Macrovision said the new technology will work in \"nearly all\" current DVD players when applied to the discs, but it did not specify how many machines could have a problem with RipGuard. The new technology will be welcomed by Hollywood film studios which are increasingly relying on revenue from DVD sales.\n\nThe film industry has stepped up efforts to fight DVD piracy in the last 12 months, taking legal action against websites which offer pirated copies of DVD movies for download.\n\n\"Ultimately, we see RipGuard DVD... evolving beyond anti-piracy, and towards enablement of legitimate online transactions, interoperability in tomorrow's digital home, and the upcoming high-definition formats,\" said Steve Weinstein, executive vice president and general manager of Macrovision's Entertainment Technologies Group. Macrovision said RipGuard was designed to plug the \"digital hole\" that was created by so-called DeCSS ripper software. It circumvents Content Scrambling System measures placed on DVDs and let people make perfect digital copies of copyrighted DVDs in minutes. Those copies could then be burned onto a blank DVD or uploaded for exchange to a peer-to-peer network. Macrovision said RipGuard would also prevent against \"rent, rip and return\" - where people would rent a DVD, copy it and then return the original. RipGuard is expected to be rolled out on DVDs from the middle of 2005, the company said. The new system works specifically to block most ripping programs - if used, those programs will now most likely crash, the company said. Macrovision has said that Rip Guard can be updated if hackers find a way around the new anti-copying measures.\n\n\n"
     ]
    }
   ],
   "source": [
    "lookup(50, 7)"
   ]
  },
  {
   "source": [
    "# Making the final Topics DataFrame"
   ],
   "cell_type": "markdown",
   "metadata": {}
  },
  {
   "cell_type": "code",
   "execution_count": 16,
   "metadata": {},
   "outputs": [
    {
     "output_type": "execute_result",
     "data": {
      "text/plain": [
       "      argentina  australia  brazil  canada  china  france  germany  india  \\\n",
       "0             0          0       0       0      0       0        0      1   \n",
       "1             1          1       0       0      1       0        1      0   \n",
       "2             0          1       0       1      0       0        0      0   \n",
       "3             0          0       0       0      0       0        0      0   \n",
       "4             0          0       0       0      0       1        0      0   \n",
       "...         ...        ...     ...     ...    ...     ...      ...    ...   \n",
       "2220          0          0       0       0      0       0        0      0   \n",
       "2221          0          1       0       0      0       1        0      0   \n",
       "2222          1          1       0       1      1       0        1      0   \n",
       "2223          0          0       1       0      0       0        0      1   \n",
       "2224          0          0       1       0      0       0        0      1   \n",
       "\n",
       "      indonesia  italy  japan  korea  mexico  russia  arabia  africa  turkey  \\\n",
       "0             1      0      0      0       0       1       0       0       1   \n",
       "1             0      0      0      1       0       0       0       1       0   \n",
       "2             0      1      0      0       0       0       1       0       0   \n",
       "3             0      0      1      0       0       0       0       0       0   \n",
       "4             0      0      0      0       1       0       0       0       0   \n",
       "...         ...    ...    ...    ...     ...     ...     ...     ...     ...   \n",
       "2220          0      0      0      0       0       0       0       0       1   \n",
       "2221          0      0      0      0       1       0       1       0       0   \n",
       "2222          0      1      0      0       0       0       1       0       0   \n",
       "2223          0      0      0      1       0       1       0       0       0   \n",
       "2224          1      0      0      1       0       1       0       0       0   \n",
       "\n",
       "      uk  america  eu  \n",
       "0      0        0   0  \n",
       "1      0        1   0  \n",
       "2      0        0   0  \n",
       "3      0        0   0  \n",
       "4      0        0   0  \n",
       "...   ..      ...  ..  \n",
       "2220   0        0   1  \n",
       "2221   0        0   0  \n",
       "2222   0        1   0  \n",
       "2223   0        0   0  \n",
       "2224   0        0   0  \n",
       "\n",
       "[2225 rows x 20 columns]"
      ],
      "text/html": "<div>\n<style scoped>\n    .dataframe tbody tr th:only-of-type {\n        vertical-align: middle;\n    }\n\n    .dataframe tbody tr th {\n        vertical-align: top;\n    }\n\n    .dataframe thead th {\n        text-align: right;\n    }\n</style>\n<table border=\"1\" class=\"dataframe\">\n  <thead>\n    <tr style=\"text-align: right;\">\n      <th></th>\n      <th>argentina</th>\n      <th>australia</th>\n      <th>brazil</th>\n      <th>canada</th>\n      <th>china</th>\n      <th>france</th>\n      <th>germany</th>\n      <th>india</th>\n      <th>indonesia</th>\n      <th>italy</th>\n      <th>japan</th>\n      <th>korea</th>\n      <th>mexico</th>\n      <th>russia</th>\n      <th>arabia</th>\n      <th>africa</th>\n      <th>turkey</th>\n      <th>uk</th>\n      <th>america</th>\n      <th>eu</th>\n    </tr>\n  </thead>\n  <tbody>\n    <tr>\n      <th>0</th>\n      <td>0</td>\n      <td>0</td>\n      <td>0</td>\n      <td>0</td>\n      <td>0</td>\n      <td>0</td>\n      <td>0</td>\n      <td>1</td>\n      <td>1</td>\n      <td>0</td>\n      <td>0</td>\n      <td>0</td>\n      <td>0</td>\n      <td>1</td>\n      <td>0</td>\n      <td>0</td>\n      <td>1</td>\n      <td>0</td>\n      <td>0</td>\n      <td>0</td>\n    </tr>\n    <tr>\n      <th>1</th>\n      <td>1</td>\n      <td>1</td>\n      <td>0</td>\n      <td>0</td>\n      <td>1</td>\n      <td>0</td>\n      <td>1</td>\n      <td>0</td>\n      <td>0</td>\n      <td>0</td>\n      <td>0</td>\n      <td>1</td>\n      <td>0</td>\n      <td>0</td>\n      <td>0</td>\n      <td>1</td>\n      <td>0</td>\n      <td>0</td>\n      <td>1</td>\n      <td>0</td>\n    </tr>\n    <tr>\n      <th>2</th>\n      <td>0</td>\n      <td>1</td>\n      <td>0</td>\n      <td>1</td>\n      <td>0</td>\n      <td>0</td>\n      <td>0</td>\n      <td>0</td>\n      <td>0</td>\n      <td>1</td>\n      <td>0</td>\n      <td>0</td>\n      <td>0</td>\n      <td>0</td>\n      <td>1</td>\n      <td>0</td>\n      <td>0</td>\n      <td>0</td>\n      <td>0</td>\n      <td>0</td>\n    </tr>\n    <tr>\n      <th>3</th>\n      <td>0</td>\n      <td>0</td>\n      <td>0</td>\n      <td>0</td>\n      <td>0</td>\n      <td>0</td>\n      <td>0</td>\n      <td>0</td>\n      <td>0</td>\n      <td>0</td>\n      <td>1</td>\n      <td>0</td>\n      <td>0</td>\n      <td>0</td>\n      <td>0</td>\n      <td>0</td>\n      <td>0</td>\n      <td>0</td>\n      <td>0</td>\n      <td>0</td>\n    </tr>\n    <tr>\n      <th>4</th>\n      <td>0</td>\n      <td>0</td>\n      <td>0</td>\n      <td>0</td>\n      <td>0</td>\n      <td>1</td>\n      <td>0</td>\n      <td>0</td>\n      <td>0</td>\n      <td>0</td>\n      <td>0</td>\n      <td>0</td>\n      <td>1</td>\n      <td>0</td>\n      <td>0</td>\n      <td>0</td>\n      <td>0</td>\n      <td>0</td>\n      <td>0</td>\n      <td>0</td>\n    </tr>\n    <tr>\n      <th>...</th>\n      <td>...</td>\n      <td>...</td>\n      <td>...</td>\n      <td>...</td>\n      <td>...</td>\n      <td>...</td>\n      <td>...</td>\n      <td>...</td>\n      <td>...</td>\n      <td>...</td>\n      <td>...</td>\n      <td>...</td>\n      <td>...</td>\n      <td>...</td>\n      <td>...</td>\n      <td>...</td>\n      <td>...</td>\n      <td>...</td>\n      <td>...</td>\n      <td>...</td>\n    </tr>\n    <tr>\n      <th>2220</th>\n      <td>0</td>\n      <td>0</td>\n      <td>0</td>\n      <td>0</td>\n      <td>0</td>\n      <td>0</td>\n      <td>0</td>\n      <td>0</td>\n      <td>0</td>\n      <td>0</td>\n      <td>0</td>\n      <td>0</td>\n      <td>0</td>\n      <td>0</td>\n      <td>0</td>\n      <td>0</td>\n      <td>1</td>\n      <td>0</td>\n      <td>0</td>\n      <td>1</td>\n    </tr>\n    <tr>\n      <th>2221</th>\n      <td>0</td>\n      <td>1</td>\n      <td>0</td>\n      <td>0</td>\n      <td>0</td>\n      <td>1</td>\n      <td>0</td>\n      <td>0</td>\n      <td>0</td>\n      <td>0</td>\n      <td>0</td>\n      <td>0</td>\n      <td>1</td>\n      <td>0</td>\n      <td>1</td>\n      <td>0</td>\n      <td>0</td>\n      <td>0</td>\n      <td>0</td>\n      <td>0</td>\n    </tr>\n    <tr>\n      <th>2222</th>\n      <td>1</td>\n      <td>1</td>\n      <td>0</td>\n      <td>1</td>\n      <td>1</td>\n      <td>0</td>\n      <td>1</td>\n      <td>0</td>\n      <td>0</td>\n      <td>1</td>\n      <td>0</td>\n      <td>0</td>\n      <td>0</td>\n      <td>0</td>\n      <td>1</td>\n      <td>0</td>\n      <td>0</td>\n      <td>0</td>\n      <td>1</td>\n      <td>0</td>\n    </tr>\n    <tr>\n      <th>2223</th>\n      <td>0</td>\n      <td>0</td>\n      <td>1</td>\n      <td>0</td>\n      <td>0</td>\n      <td>0</td>\n      <td>0</td>\n      <td>1</td>\n      <td>0</td>\n      <td>0</td>\n      <td>0</td>\n      <td>1</td>\n      <td>0</td>\n      <td>1</td>\n      <td>0</td>\n      <td>0</td>\n      <td>0</td>\n      <td>0</td>\n      <td>0</td>\n      <td>0</td>\n    </tr>\n    <tr>\n      <th>2224</th>\n      <td>0</td>\n      <td>0</td>\n      <td>1</td>\n      <td>0</td>\n      <td>0</td>\n      <td>0</td>\n      <td>0</td>\n      <td>1</td>\n      <td>1</td>\n      <td>0</td>\n      <td>0</td>\n      <td>1</td>\n      <td>0</td>\n      <td>1</td>\n      <td>0</td>\n      <td>0</td>\n      <td>0</td>\n      <td>0</td>\n      <td>0</td>\n      <td>0</td>\n    </tr>\n  </tbody>\n</table>\n<p>2225 rows × 20 columns</p>\n</div>"
     },
     "metadata": {},
     "execution_count": 16
    }
   ],
   "source": [
    "final = (sims>0.9995).astype(int).iloc[:,:20]\n",
    "final.columns = g20\n",
    "final"
   ]
  },
  {
   "cell_type": "code",
   "execution_count": 17,
   "metadata": {},
   "outputs": [],
   "source": [
    "data = data.loc[:,'argentina':'european union']\n",
    "data.columns = g20\n",
    "final = (data.add(final)>=1).astype(int)"
   ]
  },
  {
   "cell_type": "code",
   "execution_count": 20,
   "metadata": {},
   "outputs": [],
   "source": [
    "final['theme'] = maindata['theme']"
   ]
  },
  {
   "cell_type": "code",
   "execution_count": 23,
   "metadata": {},
   "outputs": [],
   "source": [
    "final.to_pickle(\"/Users/aditya/Documents/GitHub/tegger-challenge/Pickles/topics.pkl\")\n",
    "final.to_csv(\"/Users/aditya/Documents/GitHub/tegger-challenge/Formatted Data/topics.csv\")"
   ]
  }
 ]
}